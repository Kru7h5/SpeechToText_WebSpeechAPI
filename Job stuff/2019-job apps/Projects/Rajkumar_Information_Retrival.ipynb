{
 "cells": [
  {
   "cell_type": "markdown",
   "metadata": {},
   "source": [
    "# Information Retrival "
   ]
  },
  {
   "cell_type": "code",
   "execution_count": 5,
   "metadata": {},
   "outputs": [
    {
     "name": "stdout",
     "output_type": "stream",
     "text": [
      "/Users/krutheekarajkumar/anaconda3/bin/python: No module named ipykernal\r\n"
     ]
    }
   ],
   "source": [
    "!python -m ipykernal install --user --name mykernal "
   ]
  },
  {
   "cell_type": "code",
   "execution_count": 7,
   "metadata": {},
   "outputs": [
    {
     "name": "stdout",
     "output_type": "stream",
     "text": [
      "Collecting whoosh\n",
      "\u001b[?25l  Downloading https://files.pythonhosted.org/packages/ba/19/24d0f1f454a2c1eb689ca28d2f178db81e5024f42d82729a4ff6771155cf/Whoosh-2.7.4-py2.py3-none-any.whl (468kB)\n",
      "\u001b[K     |████████████████████████████████| 471kB 6.4MB/s eta 0:00:01\n",
      "\u001b[?25hInstalling collected packages: whoosh\n",
      "Successfully installed whoosh-2.7.4\n"
     ]
    }
   ],
   "source": [
    "!pip install whoosh"
   ]
  },
  {
   "cell_type": "code",
   "execution_count": 2,
   "metadata": {},
   "outputs": [],
   "source": [
    "from whoosh import index, writing\n",
    "from whoosh.fields import Schema, TEXT, KEYWORD, ID, STORED\n",
    "from whoosh.analysis import *\n",
    "from whoosh.qparser import QueryParser\n",
    "import os.path\n",
    "from pathlib import Path\n",
    "import tempfile\n",
    "import subprocess"
   ]
  },
  {
   "cell_type": "code",
   "execution_count": 6,
   "metadata": {},
   "outputs": [],
   "source": [
    "DATA_DIR = \"government\"\n",
    "DOCUMENTS_DIR = os.path.join(DATA_DIR, \"documents\")\n",
    "TOPIC_FILE = os.path.join(DATA_DIR, \"gov.topics\")\n",
    "QRELS_FILE = os.path.join(DATA_DIR, \"gov.qrels\")\n",
    "TREC_EVAL = os.path.join(\"trec_eval\", \"trec_eval\")"
   ]
  },
  {
   "cell_type": "markdown",
   "metadata": {},
   "source": [
    "The Chosen measure is: <b>MAP - mean average precision</b>"
   ]
  },
  {
   "cell_type": "markdown",
   "metadata": {},
   "source": [
    "### Reason for choosing Mean Average Precision\n",
    "Mean Average Precision is the average of the precision value obtained for the set of top 'k' documents existing after each relevant document is retrieved, therefore this measure considers precision and takes into account the rank. "
   ]
  },
  {
   "cell_type": "code",
   "execution_count": 7,
   "metadata": {},
   "outputs": [],
   "source": [
    "mySchema = Schema(file_path = ID(stored=True),\n",
    "                  file_content = TEXT(analyzer = RegexTokenizer()))\n",
    "def createIndex(schema):\n",
    "    indexDir = tempfile.mkdtemp()\n",
    "    return index.create_in(indexDir, schema)\n",
    "\n",
    "myIndex = createIndex(mySchema)"
   ]
  },
  {
   "cell_type": "code",
   "execution_count": 8,
   "metadata": {},
   "outputs": [],
   "source": [
    "def addFilesToIndex(indexObj, fileList):\n",
    "    # open writer\n",
    "    writer = writing.BufferedWriter(indexObj, period=None, limit=1000)\n",
    "    try:\n",
    "        # write each file to index\n",
    "        # Here 'fileList' is an object that is iterable - 'lab-data/documents/email01'\n",
    "        for docNum, filePath in enumerate(fileList):\n",
    "            with open(filePath, \"r\", encoding=\"utf-8\") as f:\n",
    "                fileContent = f.read()\n",
    "                writer.add_document(file_path = filePath,\n",
    "                                    file_content = fileContent)\n",
    "                if (docNum+1 % 1000 == 0):\n",
    "                    print(\"already indexed:\", docNum+1)\n",
    "        print(\"done indexing.\")\n",
    "\n",
    "    finally:\n",
    "        # close the index\n",
    "        writer.close()"
   ]
  },
  {
   "cell_type": "code",
   "execution_count": 9,
   "metadata": {},
   "outputs": [],
   "source": [
    "filesToIndex = [str(filePath) for filePath in Path(DOCUMENTS_DIR).glob(\"**/*\") if filePath.is_file()]"
   ]
  },
  {
   "cell_type": "code",
   "execution_count": 10,
   "metadata": {},
   "outputs": [
    {
     "data": {
      "text/plain": [
       "[]"
      ]
     },
     "execution_count": 10,
     "metadata": {},
     "output_type": "execute_result"
    }
   ],
   "source": [
    "filesToIndex[:5]"
   ]
  },
  {
   "cell_type": "code",
   "execution_count": 11,
   "metadata": {},
   "outputs": [
    {
     "name": "stdout",
     "output_type": "stream",
     "text": [
      "number of files: 0\n"
     ]
    }
   ],
   "source": [
    "print(\"number of files:\", len(filesToIndex))"
   ]
  },
  {
   "cell_type": "code",
   "execution_count": 12,
   "metadata": {},
   "outputs": [
    {
     "name": "stdout",
     "output_type": "stream",
     "text": [
      "done indexing.\n"
     ]
    }
   ],
   "source": [
    "addFilesToIndex(myIndex, filesToIndex)"
   ]
  },
  {
   "cell_type": "code",
   "execution_count": 15,
   "metadata": {},
   "outputs": [],
   "source": [
    "mySchema = Schema(file_path = ID(stored=True),\n",
    "                  file_content = TEXT(analyzer = RegexTokenizer()))\n",
    "INDEX_Q2 = createIndex(mySchema) # Replace None with index\n",
    "QP_Q2 = QueryParser(\"file_content\", schema=myIndex.schema) # Replace None with query parser\n",
    "SEARCHER_Q2 = myIndex.searcher()# Replace None with searcher"
   ]
  },
  {
   "cell_type": "code",
   "execution_count": 16,
   "metadata": {},
   "outputs": [
    {
     "name": "stdout",
     "output_type": "stream",
     "text": [
      "1 mining gold silver coal\n",
      "2 juvenile delinquency\n",
      "4 wireless communications\n",
      "6 physical therapists\n",
      "7 cotton industry\n",
      "9 genealogy searches\n",
      "10 Physical Fitness\n",
      "14 Agricultural biotechnology\n",
      "16 Emergency and disaster preparedness assistance\n",
      "18 Shipwrecks\n",
      "19 Cybercrime, internet fraud, and cyber fraud\n",
      "22 Veteran's Benefits\n",
      "24 Air Bag Safety\n",
      "26 Nuclear power plants\n",
      "28 Early Childhood Education\n",
      "\n"
     ]
    }
   ],
   "source": [
    "with open(TOPIC_FILE, \"r\") as f:\n",
    "    print(f.read())"
   ]
  },
  {
   "cell_type": "code",
   "execution_count": 17,
   "metadata": {},
   "outputs": [
    {
     "name": "stdout",
     "output_type": "stream",
     "text": [
      "1 0 G00-00-0681214 0\n",
      "1 0 G00-00-0945765 0\n",
      "1 0 G00-00-1006224 1\n",
      "1 0 G00-00-1591495 0\n",
      "1 0 G00-00-2764912 0\n",
      "1 0 G00-00-3253540 0\n",
      "1 0 G00-00-3717374 0\n",
      "1 0 G00-01-0270065 0\n",
      "1 0 G00-01-0400712 0\n",
      "1 0 G00-01-0682299 0\n",
      "\n"
     ]
    }
   ],
   "source": [
    "with open(QRELS_FILE, \"r\") as f:\n",
    "    qrels10 = f.readlines()[:10]\n",
    "    print(\"\".join(qrels10))"
   ]
  },
  {
   "cell_type": "code",
   "execution_count": 22,
   "metadata": {},
   "outputs": [],
   "source": [
    "def trecEval(topicFile, qrelsFile, queryParser, searcher):\n",
    "    # Load topic file - a list of topics(search phrases) used for evalutation\n",
    "    with open(topicFile, \"r\") as tf:\n",
    "        topics = tf.read().splitlines()\n",
    "    #print(topics) # -- list\n",
    "    # create an output file to which we'll write our results\n",
    "    tempOutputFile = tempfile.mkstemp()[1]\n",
    "    with open(tempOutputFile, \"w\") as outputTRECFile:\n",
    "        # for each evaluated topic:\n",
    "        # build a query and record the results in the file in TREC_EVAL format\n",
    "        for topic in topics:\n",
    "            topic_id, topic_phrase = tuple(topic.split(\" \", 1))\n",
    "            topicQuery = queryParser.parse(topic_phrase)\n",
    "            topicResults = searcher.search(topicQuery, limit=None)\n",
    "            for (docnum, result) in enumerate(topicResults):\n",
    "                score = topicResults.score(docnum)\n",
    "                outputTRECFile.write(\"%s Q0 %s %d %lf test\\n\" % (topic_id, os.path.basename(result[\"file_path\"]), docnum, score))\n",
    "    \n",
    "    result = subprocess.run([TREC_EVAL, '-q', qrelsFile, tempOutputFile], stdout=subprocess.PIPE)\n",
    "    print(result.stdout.decode())"
   ]
  },
  {
   "cell_type": "code",
   "execution_count": 25,
   "metadata": {
    "scrolled": true
   },
   "outputs": [
    {
     "name": "stdout",
     "output_type": "stream",
     "text": [
      "\n"
     ]
    }
   ],
   "source": [
    "trecEval(TOPIC_FILE, QRELS_FILE, QP_Q2, SEARCHER_Q2)"
   ]
  },
  {
   "cell_type": "markdown",
   "metadata": {},
   "source": [
    "### MAP with baseline Whoosh system\n",
    "\n",
    "map(all) = <b>0.1971</b>"
   ]
  },
  {
   "cell_type": "markdown",
   "metadata": {},
   "source": [
    "### The Topics that did well and the topics that did poorly\n",
    "The topic where the MAP value was 0 were: \n",
    "1, 2, 6, 7, 9, 16, 28 \n",
    "\n",
    "Topic 19 wasn't included in the list and the reason for this is that there were no documents that were retrived by the system. \n",
    "\n",
    "The topic which did have a MAP value as a consequent of having a system retriving a relevant document: \n",
    "4=0.0312 , 10=0.167, 14=0.25, 18=1.0, 22=0.2, 24=1.0, 26=0.1111\n",
    "\n",
    "Gauging from the returned documents, topic 14 had the most promising results. "
   ]
  },
  {
   "cell_type": "markdown",
   "metadata": {},
   "source": [
    "### Rason for improvement of Whoosh's performance on this test collection\n",
    "The first way to improve the test collections would be to introduce text tokenization and filteration. <br>For Example: <br>The queries need not consider any puncuation or unneccesary white space. Uppercase and lowercase letters need not be a deciding factor in query searching. Using different variations of a query term which has the same meaning, however could be listed different in the context due to grammer but carry the same meaning. "
   ]
  },
  {
   "cell_type": "code",
   "execution_count": 26,
   "metadata": {},
   "outputs": [],
   "source": [
    "import nltk\n",
    "from nltk.stem import *"
   ]
  },
  {
   "cell_type": "code",
   "execution_count": 32,
   "metadata": {},
   "outputs": [],
   "source": [
    "from whoosh.analysis import Filter\n",
    "class CustomFilter(Filter):\n",
    "    is_morph = True\n",
    "    def __init__(self, filterFunc, *args, **kwargs):\n",
    "        self.customFilter = filterFunc\n",
    "        self.args = args\n",
    "        self.kwargs = kwargs\n",
    "    def __eq__(self):\n",
    "        return (other\n",
    "                and self.__class__ is other.__class__)\n",
    "    def __call__(self, tokens):\n",
    "        for t in tokens:\n",
    "            if t.mode == 'query': # if called by query parser\n",
    "                t.text = self.customFilter(t.text, *self.args, **self.kwargs)\n",
    "                yield t\n",
    "            else: # == 'index' if called by indexer\n",
    "                t.text = self.customFilter(t.text, *self.args, **self.kwargs)\n",
    "                yield t"
   ]
  },
  {
   "cell_type": "code",
   "execution_count": 33,
   "metadata": {},
   "outputs": [],
   "source": [
    "tokenizer = RegexTokenizer()| StemFilter()| LowercaseFilter() | IntraWordFilter() | StopFilter() |CustomFilter(WordNetLemmatizer().lemmatize, 'v')|CustomFilter(LancasterStemmer().stem)\n",
    "#[token.text for token in stmLwrStpIntraAnalyzer()]"
   ]
  },
  {
   "cell_type": "code",
   "execution_count": 34,
   "metadata": {},
   "outputs": [
    {
     "name": "stdout",
     "output_type": "stream",
     "text": [
      "done indexing.\n"
     ]
    }
   ],
   "source": [
    "Schema_Q3 = Schema(file_path = ID(stored=True),\n",
    "                  file_content = TEXT(analyzer = tokenizer))\n",
    "INDEX_Q3 = createIndex(Schema_Q3) # Replace None with your index for Q3\n",
    "addFilesToIndex(INDEX_Q3, filesToIndex)\n",
    "QP_Q3 =  QueryParser(\"file_content\", schema=INDEX_Q3.schema) # Replace None with your query parser for Q3\n",
    "SEARCHER_Q3 = INDEX_Q3.searcher() # Replace None with your searcher for Q3\n"
   ]
  },
  {
   "cell_type": "code",
   "execution_count": 35,
   "metadata": {},
   "outputs": [
    {
     "name": "stdout",
     "output_type": "stream",
     "text": [
      "\n"
     ]
    }
   ],
   "source": [
    "trecEval(TOPIC_FILE, QRELS_FILE, QP_Q3, SEARCHER_Q3) "
   ]
  },
  {
   "attachments": {
    "Screen%20Shot%202019-02-01%20at%208.57.36%20AM.png": {
     "image/png": "[encoded data removed]"
    }
   },
   "cell_type": "markdown",
   "metadata": {},
   "source": [
    "### Modifications and improvements made and the effect on queries in performance\n",
    "There were eight filters and tolkenziers that were applied to the system. These included StemFilter which was able to get multiple versions of the same root word, and stopfilter which was able to ignore the common words and give importance to the rare words by a list of predefined words. IntraWordFilter were able to concatinate hyphenated word, this filter might not have been necessary as the query words did not contain any such hyphenated term. ordNetLemmatizer().lemmatize, 'v, tokenization features creates past tense versions of verbs and LancasterStemmer().stem is able to remove the suffix so as to return the root word for a search funciton <br> It would apprear as though the number of false positives had increased after the return of the filters were applied, there was a larger amount of data that was being retrieved but was not relevant. False positive numbers however, seemed to be held constant, from the previous system. <br> Overall there was definite improvement from the previous test to the next, the number of queries processed had increased by one, the true positive values had also increased which meant more relevant information was retrieved.The number of False negatives had also increased dramatically. ![Screen%20Shot%202019-02-01%20at%208.57.36%20AM.png](attachment:Screen%20Shot%202019-02-01%20at%208.57.36%20AM.png). <center>The above picture compares the data from all the results from the first test to the second."
   ]
  },
  {
   "cell_type": "markdown",
   "metadata": {},
   "source": [
    "##### Final thoughts on the changed: \n",
    "<br> The idea still indicated an overall improvement in the system. The MAP values over all the queries was higher than that without of the filters and tokenizers. Compromize was seen at only a small portion of the results and this was due to the large number of retrieved documents - however the higher MAP values suggest that the average reader would find their answers within the top few searches.  "
   ]
  },
  {
   "cell_type": "code",
   "execution_count": 36,
   "metadata": {},
   "outputs": [],
   "source": [
    "GRAD_STUDENT = True # Changed to true for graduate student deliverable "
   ]
  },
  {
   "cell_type": "markdown",
   "metadata": {},
   "source": [
    "### Ways to improve Whoosh's performance on this test collection:\n",
    "Any user would be more likely to enjoy their search experience when the information/relevant documents are present in an orderly fashion, such that the most relevant topics would be present at the top of the list of the retrived documents. This can be done by using scoring methods provided by whoosh. The position of the ranks of the relevant documents can be read through the \"recip rank\" number of the trec_eval return. The reciprocal of this number gives the position of the first relevant document present in the list. For Query 6, this document is present in the 6th position, ideally the search system would present this relevant document in the first position as there is only one relevant document in the whole list of retrived document. Scoring methods would allow for this to happen. The default method the searcher applies is the BM15F method and it would be beneficial to study which is there are other cases there a different sorting system would be more effective"
   ]
  },
  {
   "cell_type": "code",
   "execution_count": 199,
   "metadata": {},
   "outputs": [],
   "source": [
    "from whoosh import scoring"
   ]
  },
  {
   "cell_type": "code",
   "execution_count": 205,
   "metadata": {},
   "outputs": [
    {
     "name": "stdout",
     "output_type": "stream",
     "text": [
      "done indexing.\n"
     ]
    }
   ],
   "source": [
    "#Schema_Q4 = Schema(file_path = ID(stored=True),file_content = TEXT(analyzer = tokenizer))\n",
    "INDEX_Q4 = createIndex(Schema_Q3) \n",
    "addFilesToIndex(INDEX_Q4, filesToIndex)\n",
    "QP_Q4 =  QueryParser(\"file_content\", schema=INDEX_Q4.schema) "
   ]
  },
  {
   "cell_type": "code",
   "execution_count": 31,
   "metadata": {
    "scrolled": true
   },
   "outputs": [
    {
     "ename": "NameError",
     "evalue": "name 'scoring' is not defined",
     "output_type": "error",
     "traceback": [
      "\u001b[0;31m---------------------------------------------------------------------------\u001b[0m",
      "\u001b[0;31mNameError\u001b[0m                                 Traceback (most recent call last)",
      "\u001b[0;32m<ipython-input-31-a339647de51b>\u001b[0m in \u001b[0;36m<module>\u001b[0;34m\u001b[0m\n\u001b[1;32m      5\u001b[0m     \u001b[0mposes\u001b[0m \u001b[0;34m=\u001b[0m \u001b[0mmatcher\u001b[0m\u001b[0;34m.\u001b[0m\u001b[0mvalue_as\u001b[0m\u001b[0;34m(\u001b[0m\u001b[0;34m\"positions\"\u001b[0m\u001b[0;34m)\u001b[0m\u001b[0;34m\u001b[0m\u001b[0;34m\u001b[0m\u001b[0m\n\u001b[1;32m      6\u001b[0m     \u001b[0;32mreturn\u001b[0m \u001b[0;36m1.0\u001b[0m \u001b[0;34m/\u001b[0m \u001b[0;34m(\u001b[0m\u001b[0mposes\u001b[0m\u001b[0;34m[\u001b[0m\u001b[0;36m0\u001b[0m\u001b[0;34m]\u001b[0m \u001b[0;34m+\u001b[0m \u001b[0;36m1\u001b[0m\u001b[0;34m)\u001b[0m\u001b[0;34m\u001b[0m\u001b[0;34m\u001b[0m\u001b[0m\n\u001b[0;32m----> 7\u001b[0;31m \u001b[0mpos_weighting\u001b[0m \u001b[0;34m=\u001b[0m \u001b[0mscoring\u001b[0m\u001b[0;34m.\u001b[0m\u001b[0mFunctionWeighting\u001b[0m\u001b[0;34m(\u001b[0m\u001b[0mpos_score_fn\u001b[0m\u001b[0;34m)\u001b[0m\u001b[0;34m\u001b[0m\u001b[0;34m\u001b[0m\u001b[0m\n\u001b[0m\u001b[1;32m      8\u001b[0m \u001b[0mmw\u001b[0m \u001b[0;34m=\u001b[0m \u001b[0mscoring\u001b[0m\u001b[0;34m.\u001b[0m\u001b[0mMultiWeighting\u001b[0m\u001b[0;34m(\u001b[0m\u001b[0mscoring\u001b[0m\u001b[0;34m.\u001b[0m\u001b[0mBM25F\u001b[0m\u001b[0;34m(\u001b[0m\u001b[0;34m)\u001b[0m\u001b[0;34m,\u001b[0m \u001b[0mid\u001b[0m\u001b[0;34m=\u001b[0m\u001b[0mscoring\u001b[0m\u001b[0;34m.\u001b[0m\u001b[0mFrequency\u001b[0m\u001b[0;34m(\u001b[0m\u001b[0;34m)\u001b[0m\u001b[0;34m,\u001b[0m \u001b[0mkeys\u001b[0m\u001b[0;34m=\u001b[0m\u001b[0mscoring\u001b[0m\u001b[0;34m.\u001b[0m\u001b[0mTF_IDF\u001b[0m\u001b[0;34m(\u001b[0m\u001b[0;34m)\u001b[0m\u001b[0;34m)\u001b[0m\u001b[0;34m\u001b[0m\u001b[0;34m\u001b[0m\u001b[0m\n\u001b[1;32m      9\u001b[0m \u001b[0;31m#SEARCHER_Q4 = INDEX_Q4.searcher(weighting=pos_weighting)\u001b[0m\u001b[0;34m\u001b[0m\u001b[0;34m\u001b[0m\u001b[0;34m\u001b[0m\u001b[0m\n",
      "\u001b[0;31mNameError\u001b[0m: name 'scoring' is not defined"
     ]
    }
   ],
   "source": [
    "#SEARCHER_Q4 = INDEX_Q4.searcher(weighting=scoring.BM25F()) \n",
    "#The following scoring function uses the position of the first occurance of a term in each document to calculate the\n",
    "#score, so documents with the given term earlier in the document will score higher:\n",
    "def pos_score_fn(searcher, fieldname, text, matcher):\n",
    "    poses = matcher.value_as(\"positions\")\n",
    "    return 1.0 / (poses[0] + 1)\n",
    "pos_weighting = scoring.FunctionWeighting(pos_score_fn)\n",
    "mw = scoring.MultiWeighting(scoring.BM25F(), id=scoring.Frequency(), keys=scoring.TF_IDF())\n",
    "#SEARCHER_Q4 = INDEX_Q4.searcher(weighting=pos_weighting) \n",
    "#SEARCHER_Q4 = INDEX_Q4.searcher(weighting=scoring.Frequency()) \n",
    "#SEARCHER_Q4 = INDEX_Q4.searcher(weighting=scoring.TF_IDF()) \n",
    "SEARCHER_Q4 = INDEX_Q4.searcher(weighting=mw) \n",
    "\n",
    "trecEval(TOPIC_FILE, QRELS_FILE, QP_Q4, SEARCHER_Q4) \n"
   ]
  },
  {
   "attachments": {
    "Screen%20Shot%202019-02-01%20at%2010.38.37%20AM.png": {
     "image/png": "[encoded data removed]"
    }
   },
   "cell_type": "markdown",
   "metadata": {},
   "source": [
    "### Modi\f",
    "cations that caused improvements \n",
    "Multiple scoring methods were applied to study the effect in the resulting data that was retrived. Namely <li>BM25F(): which confirmed that it was the default method that was applied to the previous dataset <li> The function pos_score_fn() [taken from the whoosh documentation]: where the higher the position of the relevant document, the higher the allotted score was for that query <li> MultiWeighting() [From whoosh documentation]: Where the primary method was BM25F, and the ID fields had Frequency and the key fields had the TF_ID scoring attached to it. <li>Frequency: Where the more number of times a query word is present in the document the higher the score would be <li> TF_ID: scored the query based on the term in the document and the document in the collection. <br> Most of the methods did not show a large improvement on the MAP number and this was because the default method used BM25F, returned the optimal solution. The maximum MAP value for all the topics was seen for position scoring function. The only topics that an improvement was seen were 6, 9, 10, 28. For example, query 6 originally placed the first relevant document in position 6 and after the scoring method was applied, that position was moved to the 1st position. The scoring function places the relevant documents higher up on the list, there by causing the MAP values to also increase. \n",
    "    ![Screen%20Shot%202019-02-01%20at%2010.38.37%20AM.png](attachment:Screen%20Shot%202019-02-01%20at%2010.38.37%20AM.png)<center>The columns above follow: results without any filters or tokenizations, results with default scoring(BM25F), filters and tokenization, results with the scoring function and results with multiple weights (left to right)</center>\n",
    "    <br>The most improvement was seen for query 28 as the number of retrived documents was reduced from 64 to 52,52 (BM25F, position scoring function, multiweighting respectively), this caused the ranking for the relevant retrivals (true positives) to be placed higher in rank, thereby increasing the MAP value. Almost all queries had a larger MAP value when scored by the default or the multiweight method for induvidual queries, there by indicating that BM25F had the most effective scoring method for this data set. "
   ]
  },
  {
   "cell_type": "markdown",
   "metadata": {},
   "source": [
    "### Final thoughts on the improvements\n",
    "It was a good idea to realize that the default scoring method BM25F was the best scoring method available for most fields. However there are some fields which would be more effectively sorted by using frequency or TF_IDF, it would be benificial to investigate which particular fields would benefit more from such sorting"
   ]
  },
  {
   "cell_type": "markdown",
   "metadata": {},
   "source": [
    "## Validation"
   ]
  },
  {
   "cell_type": "code",
   "execution_count": 217,
   "metadata": {},
   "outputs": [],
   "source": [
    "# Run the following cells to make sure your code returns the correct value types"
   ]
  },
  {
   "cell_type": "code",
   "execution_count": 218,
   "metadata": {},
   "outputs": [],
   "source": [
    "from whoosh.index import FileIndex\n",
    "from whoosh.qparser import QueryParser\n",
    "from whoosh.searching import Searcher\n",
    "import os.path"
   ]
  },
  {
   "cell_type": "code",
   "execution_count": 219,
   "metadata": {},
   "outputs": [
    {
     "name": "stdout",
     "output_type": "stream",
     "text": [
      "Q2 Types Validated\n"
     ]
    }
   ],
   "source": [
    "assert(isinstance(INDEX_Q2, FileIndex)), \"Index Type\"\n",
    "assert(isinstance(QP_Q2, QueryParser)), \"Query Parser Type\"\n",
    "assert(isinstance(SEARCHER_Q2, Searcher)), \"Searcher Type\"\n",
    "print(\"Q2 Types Validated\")"
   ]
  },
  {
   "cell_type": "markdown",
   "metadata": {},
   "source": [
    "### Q2 Validation"
   ]
  },
  {
   "cell_type": "code",
   "execution_count": 220,
   "metadata": {},
   "outputs": [
    {
     "name": "stdout",
     "output_type": "stream",
     "text": [
      "Q3 Types Validated\n"
     ]
    }
   ],
   "source": [
    "assert(isinstance(INDEX_Q3, FileIndex)), \"Index Type\"\n",
    "assert(isinstance(QP_Q3, QueryParser)), \"Query Parser Type\"\n",
    "assert(isinstance(SEARCHER_Q3, Searcher)), \"Searcher Type\"\n",
    "print(\"Q3 Types Validated\")"
   ]
  },
  {
   "cell_type": "markdown",
   "metadata": {},
   "source": [
    "### Q3 Validation"
   ]
  },
  {
   "cell_type": "code",
   "execution_count": 221,
   "metadata": {},
   "outputs": [
    {
     "name": "stdout",
     "output_type": "stream",
     "text": [
      "Q4 Types Validated\n"
     ]
    }
   ],
   "source": [
    "assert((not GRAD_STUDENT) or isinstance(INDEX_Q4, FileIndex)), \"Index Type\"\n",
    "assert((not GRAD_STUDENT) or isinstance(QP_Q4, QueryParser)), \"Query Parser Type\"\n",
    "assert((not GRAD_STUDENT) or isinstance(SEARCHER_Q4, Searcher)), \"Searcher Type\"\n",
    "print(\"Q4 Types Validated\")"
   ]
  },
  {
   "cell_type": "markdown",
   "metadata": {},
   "source": [
    "### Q4 Validation (Graduate Students)"
   ]
  },
  {
   "cell_type": "markdown",
   "metadata": {
    "collapsed": true
   },
   "source": [
    "### WORKS REFERENCED:\n",
    "https://nlp.stanford.edu/IR-book/html/htmledition/evaluation-of-ranked-retrieval-results-1.html<br>\n",
    "https://nlp.stanford.edu/IR-book/pdf/08eval.pdf<br>\n",
    "https://en.wikipedia.org/wiki/Evaluation_measures_(information_retrieval)<br>\n",
    "https://github.com/usnistgov/trec_eval/tree/master/test<br>\n",
    "https://media.readthedocs.org/pdf/whoosh/latest/whoosh.pdf<br>\n"
   ]
  },
  {
   "cell_type": "code",
   "execution_count": null,
   "metadata": {},
   "outputs": [],
   "source": []
  },
  {
   "cell_type": "code",
   "execution_count": null,
   "metadata": {},
   "outputs": [],
   "source": []
  }
 ],
 "metadata": {
  "kernelspec": {
   "display_name": "Python 3",
   "language": "python",
   "name": "python3"
  },
  "language_info": {
   "codemirror_mode": {
    "name": "ipython",
    "version": 3
   },
   "file_extension": ".py",
   "mimetype": "text/x-python",
   "name": "python",
   "nbconvert_exporter": "python",
   "pygments_lexer": "ipython3",
   "version": "3.7.3"
  }
 },
 "nbformat": 4,
 "nbformat_minor": 2
}
