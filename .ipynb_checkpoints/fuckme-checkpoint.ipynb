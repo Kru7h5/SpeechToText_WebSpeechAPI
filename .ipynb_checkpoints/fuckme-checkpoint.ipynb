{
 "cells": [
  {
   "cell_type": "code",
   "execution_count": 50,
   "metadata": {},
   "outputs": [],
   "source": [
    "from lxml import html\n",
    "import requests\n",
    "response = requests.get('http://data.gov/')"
   ]
  },
  {
   "cell_type": "code",
   "execution_count": 51,
   "metadata": {},
   "outputs": [
    {
     "name": "stdout",
     "output_type": "stream",
     "text": [
      "Number of datasets currently listed on data.gov:\n"
     ]
    }
   ],
   "source": [
    "elements = html.fromstring(response.text)\n",
    "link_gov = elements.cssselect('div p a b')\n",
    "print(\"Number of datasets currently listed on data.gov:\")\n",
    "for i in link_gov: \n",
    "    print(i.text)"
   ]
  },
  {
   "cell_type": "code",
   "execution_count": 55,
   "metadata": {},
   "outputs": [],
   "source": [
    "from bs4 import BeautifulSoup\n",
    "soup = BeautifulSoup(response.content, 'html.parser')"
   ]
  },
  {
   "cell_type": "code",
   "execution_count": 54,
   "metadata": {},
   "outputs": [
    {
     "data": {
      "text/plain": [
       "b'<!DOCTYPE html>\\n<html class=\"no-js\" dir=\"ltr\" lang=\"en-US\">\\n<head>\\n  <meta charset=\"utf-8\">\\n  <meta http-equiv=\"X-UA-Compatible\" content=\"IE=edge\">\\n  <title>Data.gov</title>\\n  <meta name=\"viewport\" content=\"width=device-width, initial-scale=1\">\\n\\n  \\n\\t<!-- This site is optimized with the Yoast SEO plugin v14.0.4 - https://yoast.com/wordpress/plugins/seo/ -->\\n\\t<meta name=\"robots\" content=\"index, follow\" />\\n\\t<meta name=\"googlebot\" content=\"index, follow, max-snippet:-1, max-image-preview:large, max-video-preview:-1\" />\\n\\t<meta name=\"bingbot\" content=\"index, follow, max-snippet:-1, max-image-preview:large, max-video-preview:-1\" />\\n\\t<link rel=\"canonical\" href=\"https://wordpressweb1p.prod-ocsit.bsp.gsa.gov/\" />\\n\\t<meta property=\"og:locale\" content=\"en_US\" />\\n\\t<meta property=\"og:type\" content=\"website\" />\\n\\t<meta property=\"og:title\" content=\"Data.gov\" />\\n\\t<meta property=\"og:description\" content=\"The home of the U.S. Government&#8217;s open data Here you will find data, tools, and resources to conduct research, develop web and mobile applications, design data visualizations, and more. For information regarding the Coronavirus/COVID-19, please visit Coronavirus.gov.\" />\\n\\t<meta property=\"og:url\" content=\"https://wordpressweb1p.prod-ocsit.bsp.gsa.gov/\" />\\n\\t<meta property=\"og:site_name\" content=\"Data.gov\" />\\n\\t<meta property=\"article:modified_time\" content=\"2020-04-03T14:08:21+00:00\" />\\n\\t<script type=\"application/ld+json\" class=\"yoast-schema-graph\">{\"@context\":\"https://schema.org\",\"@graph\":[{\"@type\":\"WebSite\",\"@id\":\"https://www.data.gov/#website\",\"url\":\"https://www.data.gov/\",\"name\":\"Data.gov\",\"description\":\"The home of the U.S. Government\\\\u2019s open data\",\"potentialAction\":[{\"@type\":\"SearchAction\",\"target\":\"https://www.data.gov/?s={search_term_string}\",\"query-input\":\"required name=search_term_string\"}],\"inLanguage\":\"en-US\"},{\"@type\":\"WebPage\",\"@id\":\"https://wordpressweb1p.prod-ocsit.bsp.gsa.gov/#webpage\",\"url\":\"https://wordpressweb1p.prod-ocsit.bsp.gsa.gov/\",\"name\":\"Data.gov\",\"isPartOf\":{\"@id\":\"https://www.data.gov/#website\"},\"datePublished\":\"2020-04-01T21:05:04+00:00\",\"dateModified\":\"2020-04-03T14:08:21+00:00\",\"inLanguage\":\"en-US\",\"potentialAction\":[{\"@type\":\"ReadAction\",\"target\":[\"https://wordpressweb1p.prod-ocsit.bsp.gsa.gov/\"]}]}]}</script>\\n\\t<!-- / Yoast SEO plugin. -->\\n\\n\\n<link rel=\\'dns-prefetch\\' href=\\'//code.jquery.com\\' />\\n<link rel=\\'dns-prefetch\\' href=\\'//dap.digitalgov.gov\\' />\\n<link rel=\\'dns-prefetch\\' href=\\'//fonts.googleapis.com\\' />\\n<link rel=\\'dns-prefetch\\' href=\\'//s.w.org\\' />\\n\\t\\t<script type=\"text/javascript\">\\n\\t\\t\\twindow._wpemojiSettings = {\"baseUrl\":\"https:\\\\/\\\\/s.w.org\\\\/images\\\\/core\\\\/emoji\\\\/12.0.0-1\\\\/72x72\\\\/\",\"ext\":\".png\",\"svgUrl\":\"https:\\\\/\\\\/s.w.org\\\\/images\\\\/core\\\\/emoji\\\\/12.0.0-1\\\\/svg\\\\/\",\"svgExt\":\".svg\",\"source\":{\"concatemoji\":\"\\\\/wp\\\\/wp-includes\\\\/js\\\\/wp-emoji-release.min.js?ver=5.2.6\"}};\\n\\t\\t\\t!function(a,b,c){function d(a,b){var c=String.fromCharCode;l.clearRect(0,0,k.width,k.height),l.fillText(c.apply(this,a),0,0);var d=k.toDataURL();l.clearRect(0,0,k.width,k.height),l.fillText(c.apply(this,b),0,0);var e=k.toDataURL();return d===e}function e(a){var b;if(!l||!l.fillText)return!1;switch(l.textBaseline=\"top\",l.font=\"600 32px Arial\",a){case\"flag\":return!(b=d([55356,56826,55356,56819],[55356,56826,8203,55356,56819]))&&(b=d([55356,57332,56128,56423,56128,56418,56128,56421,56128,56430,56128,56423,56128,56447],[55356,57332,8203,56128,56423,8203,56128,56418,8203,56128,56421,8203,56128,56430,8203,56128,56423,8203,56128,56447]),!b);case\"emoji\":return b=d([55357,56424,55356,57342,8205,55358,56605,8205,55357,56424,55356,57340],[55357,56424,55356,57342,8203,55358,56605,8203,55357,56424,55356,57340]),!b}return!1}function f(a){var c=b.createElement(\"script\");c.src=a,c.defer=c.type=\"text/javascript\",b.getElementsByTagName(\"head\")[0].appendChild(c)}var g,h,i,j,k=b.createElement(\"canvas\"),l=k.getContext&&k.getContext(\"2d\");for(j=Array(\"flag\",\"emoji\"),c.supports={everything:!0,everythingExceptFlag:!0},i=0;i<j.length;i++)c.supports[j[i]]=e(j[i]),c.supports.everything=c.supports.everything&&c.supports[j[i]],\"flag\"!==j[i]&&(c.supports.everythingExceptFlag=c.supports.everythingExceptFlag&&c.supports[j[i]]);c.supports.everythingExceptFlag=c.supports.everythingExceptFlag&&!c.supports.flag,c.DOMReady=!1,c.readyCallback=function(){c.DOMReady=!0},c.supports.everything||(h=function(){c.readyCallback()},b.addEventListener?(b.addEventListener(\"DOMContentLoaded\",h,!1),a.addEventListener(\"load\",h,!1)):(a.attachEvent(\"onload\",h),b.attachEvent(\"onreadystatechange\",function(){\"complete\"===b.readyState&&c.readyCallback()})),g=c.source||{},g.concatemoji?f(g.concatemoji):g.wpemoji&&g.twemoji&&(f(g.twemoji),f(g.wpemoji)))}(window,document,window._wpemojiSettings);\\n\\t\\t</script>\\n\\t\\t<style type=\"text/css\">\\nimg.wp-smiley,\\nimg.emoji {\\n\\tdisplay: inline !important;\\n\\tborder: none !important;\\n\\tbox-shadow: none !important;\\n\\theight: 1em !important;\\n\\twidth: 1em !important;\\n\\tmargin: 0 .07em !important;\\n\\tvertical-align: -0.1em !important;\\n\\tbackground: none !important;\\n\\tpadding: 0 !important;\\n}\\n</style>\\n\\t<link rel=\"stylesheet\" href=\"/app/plugins/simple-tooltips/zebra_tooltips.css?ver=5.2.6\">\\n<link rel=\"stylesheet\" href=\"/app/plugins/the-events-calendar/common/src/resources/css/common-skeleton.min.css?ver=4.12.0\">\\n<link rel=\"stylesheet\" href=\"/app/plugins/the-events-calendar/common/src/resources/css/tooltip.min.css?ver=4.12.0\">\\n<link rel=\"stylesheet\" href=\"/wp/wp-includes/css/dist/block-library/style.min.css?ver=5.2.6\">\\n<link rel=\"stylesheet\" href=\"/app/plugins/contact-form-7/includes/css/styles.css?ver=5.1.7\">\\n<link rel=\"stylesheet\" href=\"/app/plugins/m-wp-popup/css/colorbox/colorbox.css?ver=0.1\">\\n<link rel=\"stylesheet\" href=\"/app/plugins/wp-open311/public/assets/css/chosen.min.css?ver=1.0.0\">\\n<link rel=\"stylesheet\" href=\"/app/plugins/wp-open311/public/assets/css/public.css?ver=1.0.0\">\\n<link rel=\"stylesheet\" href=\"//fonts.googleapis.com/css?family=Abel%7CLato%3A100%2C300%2C400%2C700&amp;ver=5.2.6\">\\n<link rel=\"stylesheet\" href=\"/app/themes/roots-nextdatagov/assets/css/main.min.css?ver=3c5deb08e1805f39213846d8a3a6ff74\">\\n<link rel=\"stylesheet\" href=\"/app/themes/roots-nextdatagov/assets/css/rei.css?ver=5.2.6\">\\n<script type=\\'text/javascript\\' src=\\'https://code.jquery.com/jquery-3.4.1.min.js\\'></script>\\n<script type=\\'text/javascript\\' src=\\'/app/plugins/m-wp-popup/js/wpp-popup-frontend.js?ver=0.1\\' defer=\\'defer\\'></script>\\n<script type=\\'text/javascript\\' src=\\'/app/plugins/wp-open311/public/assets/js/chosen.jquery.min.js?ver=1.0.0\\' defer=\\'defer\\'></script>\\n<script type=\\'text/javascript\\' src=\\'/app/plugins/wp-open311/public/assets/js/public.js?ver=1.0.0\\' defer=\\'defer\\'></script>\\n<script type=\\'text/javascript\\' src=\\'/app/themes/roots-nextdatagov/assets/js/vendor/respond.min.js\\' defer=\\'defer\\'></script>\\n<script type=\\'text/javascript\\' src=\\'/app/themes/roots-nextdatagov/assets/js/vendor/modernizr-2.7.1.min.js\\' defer=\\'defer\\'></script>\\n<script type=\\'text/javascript\\' src=\\'/app/themes/roots-nextdatagov/assets/js/ext-link-handler.js?ver=5.2.6\\' defer=\\'defer\\'></script>\\n<script type=\\'text/javascript\\' id=\"_fed_an_ua_tag\" src=\\'https://dap.digitalgov.gov/Universal-Federated-Analytics-Min.js?agency=GSA\\'></script>\\n<script type=\\'text/javascript\\' src=\\'/app/plugins/google-analyticator/external-tracking.min.js?ver=6.5.4\\' defer=\\'defer\\'></script>\\n<link rel=\\'https://api.w.org/\\' href=\\'https://www.data.gov/wp-json/\\' />\\n<link rel=\"alternate\" type=\"application/json+oembed\" href=\"https://www.data.gov/wp-json/oembed/1.0/embed?url=https%3A%2F%2Fwww.data.gov%2F\" />\\n<link rel=\"alternate\" type=\"text/xml+oembed\" href=\"https://www.data.gov/wp-json/oembed/1.0/embed?url=https%3A%2F%2Fwww.data.gov%2F&amp;format=xml\" />\\n<meta name=\"tec-api-version\" content=\"v1\"><meta name=\"tec-api-origin\" content=\"https://www.data.gov\"><link rel=\"https://theeventscalendar.com/\" href=\"https://www.data.gov/wp-json/tribe/events/v1/\" /><!-- Google Analytics Tracking by Google Analyticator 6.5.4: http://www.videousermanuals.com/google-analyticator/ -->\\n<script type=\"text/javascript\">\\n    var analyticsFileTypes = [\\'\\'];\\n    var analyticsSnippet = \\'enabled\\';\\n    var analyticsEventTracking = \\'enabled\\';\\n</script>\\n<script type=\"text/javascript\">\\n\\tvar _gaq = _gaq || [];\\n  \\n\\t_gaq.push([\\'_setAccount\\', \\'UA-17367410-17\\']);\\n    _gaq.push([\\'_addDevId\\', \\'i9k95\\']); // Google Analyticator App ID with Google\\n    _gaq.push([\\'_gat._anonymizeIp\\']);\\n\\t_gaq.push([\\'_trackPageview\\']);\\n\\t<!-- tracking for UA-42145528-2  start -->\\r\\n(function(i,s,o,g,r,a,m){i[\\'GoogleAnalyticsObject\\']=r;i[r]=i[r]||function(){\\r\\n  (i[r].q=i[r].q||[]).push(arguments)},i[r].l=1*new Date();a=s.createElement(o),\\r\\n  m=s.getElementsByTagName(o)[0];a.async=1;a.src=g;m.parentNode.insertBefore(a,m)\\r\\n  })(window,document,\\'script\\',\\'//www.google-analytics.com/analytics.js\\',\\'ga\\');\\r\\n\\r\\n  ga(\\'create\\', \\'UA-42145528-2\\', \\'auto\\');\\r\\n  ga(\\'set\\', \\'anonymizeIp\\', true);\\r\\n  ga(\\'send\\', \\'pageview\\');\\r\\n<!-- tracking for UA-42145528-2  end -->\\n\\n\\t(function() {\\n\\t\\tvar ga = document.createElement(\\'script\\'); ga.type = \\'text/javascript\\'; ga.async = true;\\n\\t\\t                ga.src = (\\'https:\\' == document.location.protocol ? \\'https://ssl\\' : \\'http://www\\') + \\'.google-analytics.com/ga.js\\';\\n\\t\\t                var s = document.getElementsByTagName(\\'script\\')[0]; s.parentNode.insertBefore(ga, s);\\n\\t})();\\n</script>\\n\\t\\t<style type=\"text/css\" id=\"wp-custom-css\">\\n\\t\\t\\t/*\\nYou can add your own CSS here.\\n\\nClick the help icon above to learn more.\\n*/\\n\\n.twitter-feed h2 {display:none;}\\t\\t</style>\\n\\t\\t\\n  <link rel=\"alternate\" type=\"application/rss+xml\" title=\"Data.gov Feed\" href=\"https://www.data.gov/feed/\">\\n  <link href=\"https://www.data.gov/app/themes/roots-nextdatagov/assets/img/favicon.ico\" rel=\"shortcut icon\" />\\n  <link rel=\"icon\" type=\"image/png\" href=\"https://www.data.gov/app/themes/roots-nextdatagov/assets/img/favicon-120.png\" sizes=\"120x120\" />\\n    <!--[if IE]>\\n    <style type=\"text/css\">\\n        #cboxClose{\\n            top:-8px !important;\\n            right:-8px !important;\\n        }\\n    </style>\\n    <![endif]-->\\n</head>\\n<body class=\"home page tribe-no-js\">\\n<!--div class=\"banner disclaimer\">\\r\\n<center>This is a demonstration site exploring the future of Data.gov. <span id=\"stop-disclaimer\"> Give us your feedback on <a href=\"https://twitter.com/usdatagov\" class=\"local-link\">Twitter</a>, <a href=\"http://quora.com\" class=\"external ext-link\" rel=\"external\" onclick=\"this.target=&#039;_blank&#039;;\">Quora</a></span>, <a href=\"https://github.com/GSA/datagov-design/\" class=\"local-link\">Github</a>, or <a href=\"/contact-engage\">contact us</a></center>\\r\\n\\r\\n\\r\\n<!--div class=\"banner disclaimer\"><center>Updates to Data.gov will be temporarily suspended between December 13, 9 PM EST and approximately December 27. <a href=\"/migration-notification\">Learn More</a>.</center>\\n<!--[if lt IE 8]>\\n<div class=\"alert alert-warning\">\\n    You are using an <strong>outdated</strong> browser. Please <a href=\"http://browsehappy.com/\" class=\"external ext-link\" rel=\"external\" onclick=\"this.target=&#039;_blank&#039;;\">upgrade your\\n    browser</a> to improve your experience.</div>\\n<![endif]-->\\n\\n<header>\\n<div class=\"banner navbar navbar-default navbar-static-top yamm\" role=\"banner\">\\n  <div class=\"container\">\\n\\n        <div class=\"searchbox-row skip-navigation\">\\n            <div class=\"sr-only skip-link\">\\n                <a href=\"#main\">Jump to Content</a>\\n            </div>\\n\\n\\n            <div>\\n                            </div>\\n        </div>\\n\\n        <div class=\"navbar-header\">\\n            <button type=\"button\" class=\"navbar-toggle\" data-toggle=\"collapse\" data-target=\".navbar-collapse\">\\n                <span class=\"sr-only\">Toggle navigation</span>\\n                <span class=\"icon-bar\"></span>\\n                <span class=\"icon-bar\"></span>\\n                <span class=\"icon-bar\"></span>\\n            </button>\\n            <a href=\"https://www.data.gov/\" alt=\"Data.gov\" class=\"local-link\"><h1 class=\"navbar-brand\">Data.gov</h1></a>\\n        </div>\\n\\n        <nav class=\"collapse navbar-collapse\" role=\"navigation\">\\n            <ul id=\"menu-primary-navigation\" class=\"nav navbar-nav navbar-right\"><li class=\"menu-data\"><a href=\"http://catalog.data.gov/dataset\" class=\"local-link\">Data</a></li>\\n<li class=\"dropdown yamm-fw menu-topics\"><a class=\"dropdown-toggle local-link\" data-toggle=\"dropdown\" data-target=\"#\" href=\"https://www.data.gov/communities/\">Topics <b class=\"caret\"></b></a>\\n<ul class=\"dropdown-menu topics\">\\n\\t<li class=\"menu-agriculture topic-food\"><a href=\"https://www.data.gov/food/\" class=\"local-link\"><i></i><span>Agriculture</span></a></li>\\n\\t<li class=\"menu-climate topic-climate\"><a href=\"https://www.data.gov/climate/\" class=\"local-link\"><i></i><span>Climate</span></a></li>\\n\\t<li class=\"menu-ecosystems topic-ecosystems\"><a href=\"https://www.data.gov/ecosystems/\" class=\"local-link\"><i></i><span>Ecosystems</span></a></li>\\n\\t<li class=\"menu-energy topic-energy\"><a href=\"https://www.data.gov/energy/\" class=\"local-link\"><i></i><span>Energy</span></a></li>\\n\\t<li class=\"menu-local-government topic-local\"><a href=\"https://www.data.gov/local/\" class=\"local-link\"><i></i><span>Local Government</span></a></li>\\n\\t<li class=\"menu-maritime topic-maritime\"><a href=\"https://www.data.gov/maritime/\" class=\"local-link\"><i></i><span>Maritime</span></a></li>\\n\\t<li class=\"menu-ocean topic-ocean\"><a href=\"https://www.data.gov/ocean/\" class=\"local-link\"><i></i><span>Ocean</span></a></li>\\n</ul>\\n</li>\\n<li class=\"menu-resources\"><a href=\"https://resources.data.gov\" class=\"local-link\">Resources</a></li>\\n<li class=\"menu-strategy\"><a href=\"https://strategy.data.gov\" class=\"local-link\">Strategy</a></li>\\n<li class=\"menu-developers\"><a href=\"https://www.data.gov/developers/\" class=\"local-link\">Developers</a></li>\\n<li class=\"menu-contact\"><a href=\"https://www.data.gov/contact\" class=\"local-link\">Contact</a></li>\\n</ul>        </nav>\\n\\n  </div>\\n    <div id=\"external_disclaimer\" class=\"tooltip\" role=\"tooltip\" aria-hidden=\"true\">This link will direct you to an external website that may have different content and privacy policies from Data.gov.\\n    </div>\\n</div>\\n\\n<div class=\"container hidden print-logo\">\\n    <img src=\"/app/themes/roots-nextdatagov/assets/img/logo.svg\" />\\n</div>\\n\\n\\n\\n<div class=\"jumbotron\">\\n  <div class=\"container\">\\n    <h1>The home of the U.S. Government&#8217;s open data</h1>\\n<p>Here you will find data, tools, and resources to conduct research, develop web and mobile applications, design data visualizations, and <a href=\"/about\" style=\"color:#fff; text-decoration:underline\">more</a>.</p>\\n<p>For information regarding the Coronavirus/COVID-19, please visit <a href=\"https://www.coronavirus.gov/\" style=\"color:#fff; text-decoration:underline\" class=\"external ext-link\" rel=\"external\" onclick=\"this.target=&#039;_blank&#039;;\">Coronavirus.gov.</a></p>\\n\\n<div style=\"display: block !important; margin:0 !important; padding: 0 !important\" id=\"wpp_popup_post_end_element\"></div>  </div><!--/.container-->\\n</div><!--/.jumbotron-->\\n\\n\\n\\n<div class=\"header banner frontpage-search\">\\n    <div class=\"container\">\\n        <div class=\"text-center getstarted\">\\n            <h4><label for=\"search-header\">Get Started<br>\\n                    <small>Search over <a href=\"/metrics\">211,552 datasets</a>\\n                    </small>\\n                    <br/><i class=\"fa fa-caret-down\"></i></label></h4>\\n        </div>\\n        <form role=\"search\" method=\"get\" class=\"search-form form-inline no-padding col-md-12 col-lg-12\"\\n      action=\"//catalog.data.gov/dataset\">\\n    <div class=\"input-group\">\\n        \\n        \\n        <input type=\"search\" id=\"search-header\" title=\"Example searches: Monthly House Price Indexes, Health Care Provider Charge Data, Credit Card Complaints, Manufacturing &amp; Trade Inventories &amp; Sales, Federal Student Loan Program Data\"\\n               data-strings=\\'{\"targets\":[\"Monthly House Price Indexes\",\"Health Care Provider Charge Data\",\"Credit Card Complaints\",\"Manufacturing &amp; Trade Inventories &amp; Sales\",\"Federal Student Loan Program Data\"]}\\' value=\"\" name=\"q\" class=\"search-field form-control\"\\n               placeholder=\"Search Data.gov\">\\n        <input type=\"hidden\" name=\"sort\" value=\"score desc, name asc\">\\n      <span class=\"input-group-btn\">\\n      <button type=\"submit\" class=\"search-submit btn btn-default\">\\n          <i class=\"fa fa-search\"></i>\\n          <span class=\"sr-only\">Search</span>\\n      </button>\\n    </span>\\n    </div>\\n<input type=\"hidden\" name=\"as_sfid\" value=\"AAAAAAXqqZ8OvW-diIbzJ7wknUEa8hNu9Ca1Aa_A8nzcqAwYMf8SpzT7ky8Q06dlk_aqz7XPr9-gpl7abCD0owRK0ZdNCmCiqRivPH-5L9AkFrD00wrlk7fRxTzQO_xFqTFbbEE=\" /><input type=\"hidden\" name=\"as_fid\" value=\"01e791398676c609373a2790563515fa9115c600\" /></form>\\n    </div><!--/.container-->\\n</div>\\n\\n\\n    \\n\\n</header>\\n\\n\\n\\n<div role=\"document\">\\n    <div class=\"content\">\\n        <main class=\"main\" role=\"main\" id=\"main\">\\n            <div class=\"wrap container\">\\n<div class=\"page-header\">\\n  <h1>Browse Topics</h1>\\n</div>\\n\\n<ul class=\"topics\">\\n\\n\\n\\t<li class=\"topic-food\">\\n\\t\\t<a href=\"/food/\"><i></i><span>Agriculture</span></a>\\n\\t</li>\\n\\t<li class=\"topic-climate\">\\n\\t\\t<a href=\"/climate/\"><i></i><span>Climate</span></a>\\n\\t</li>\\n    <li class=\"topic-consumer\">\\n        <a href=\"/consumer/\"><i></i><span>Consumer</span></a>\\n    </li>\\n\\t<li class=\"topic-ecosystems\">\\n\\t\\t<a href=\"/ecosystems/\"><i></i><span>Ecosystems</span></a>\\n\\t</li>\\n\\t<li class=\"topic-education\">\\n\\t\\t<a href=\"/education/\"><i></i><span>Education</span></a>\\n\\t</li>\\n\\t<li class=\"topic-energy\">\\n\\t\\t<a href=\"/energy/\"><i></i><span>Energy</span></a>\\n\\t</li>\\n\\t<li class=\"topic-finance\">\\n\\t\\t<a href=\"/finance/\"><i></i><span>Finance</span></a>\\n\\t</li>\\n\\t<li class=\"topic-health\">\\n\\t\\t<a href=\"/health/\"><i></i><span>Health</span></a>\\n\\t</li>\\n\\t<li class=\"topic-local\">\\n\\t\\t<a href=\"/local/\"><i></i><span>Local Government</span></a>\\n\\t</li>\\n\\t<li class=\"topic-manufacturing\">\\n\\t\\t<a href=\"/manufacturing/\"><i></i><span>Manufacturing</span></a>\\n\\t</li>\\n\\t<li class=\"topic-maritime\">\\n\\t\\t<a href=\"/maritime/\"><i></i><span>Maritime</span></a>\\n\\t</li>\\n\\t<li class=\"topic-ocean\">\\n\\t\\t<a href=\"/ocean/\"><i></i><span>Ocean</span></a>\\n\\t</li>\\n\\t<li class=\"topic-safety\">\\n\\t\\t<a href=\"/safety/\"><i></i><span>Public Safety</span></a>\\n\\t</li>\\n\\t<li class=\"topic-research\">\\n\\t\\t<a href=\"/research/\"><i></i><span>Science &amp; Research</span></a>\\n\\t</li>\\n</ul>\\n\\n</div><!--/.container-->\\n\\n\\n\\n\\t<section id=\"highlights\" class=\"wrap wrap-lightblue\">\\n\\t\\t<div class=\"container\">\\n\\n\\t\\t\\t<div class=\"page-header\">\\n\\t\\t\\t\\t<h1>Highlights</h1>\\n\\t\\t\\t</div>\\n\\n\\t\\t\\t<div id=\"highlightsCarousel\" class=\"carousel highlights slide\">\\n\\t\\t\\t\\t\\t\\t\\t\\t<!-- Carousel items -->\\n\\t\\t\\t\\t<div id=\"highlightsCarouselInner\" class=\"carousel-inner\">\\n\\t\\t\\t\\t\\t\\t\\t\\t\\t\\t\\t<div\\n\\t\\t\\t\\t\\t\\t\\tclass=\"highlight item active \">\\n\\t\\t\\t\\t\\t\\t\\t<header>\\n\\t\\t\\t\\t\\t\\t\\t\\t\\n\\t\\t\\t\\t\\t\\t\\t\\t<h2 class=\"entry-title\" style=\"float:left;\">Updates to Data.gov Home Page</h2>\\n\\t\\t\\t\\t\\t\\t\\t\\t\\t\\t\\t\\t\\t\\t\\t</header>\\n\\t\\t\\t\\t\\t\\t\\t<br clear=\"all\"/>\\n\\t\\t\\t\\t\\t\\t\\t\\n\\t\\t\\t\\t\\t\\t\\t<article\\n\\t\\t\\t\\t\\t\\t\\t\\tclass=\"no-image\">\\n\\t\\t\\t\\t\\t\\t\\t\\t<p>Data.gov has made a few updates to its home page in recent days.<br />\\nFor users seeking information about the coronavirus, we have added a prominent link to <a href=\"https://www.coronavirus.gov/\" class=\"external ext-link\" rel=\"external\" onclick=\"this.target=&#039;_blank&#039;;\">coronavirus.gov</a></p>\\n<p>We have also added navigation to two existing sites, <a href=\"https://strategy.data.gov/\" class=\"local-link\">strategy.data.gov</a> and <a href=\"https://resources.data.gov/\" class=\"local-link\">resources.data.gov</a>.  Strategy.data.gov is the home of the Federal Data Strategy, with information about the strategy, the Action Plan, and <a href=\"https://strategy.data.gov/progress\" class=\"local-link\">progress</a> toward the Action Plan items, as determined by the Office of Management and Budget. Resources.data.gov is an online repository of tools, best practices, and schema standards to facilitate adoption of open data practices. The site is a joint effort of OMB, the Office of Government Information Services of the National Archives, and GSA, as required by the <a href=\"https://www.congress.gov/115/plaws/publ435/PLAW-115publ435.pdf\" class=\"external ext-link\" rel=\"external\" onclick=\"this.target=&#039;_blank&#039;;\">OPEN Government Data Act.</a></p>\\n<p>In addition, we have conducted a content review of the site to archive outdated content. Datasets are not affected, as the Data.gov <a href=\"https://catalog.data.gov/dataset\" class=\"local-link\">catalog</a> is continually updated automatically by harvesting metadata maintained by the contributing agencies. Under the <a href=\"https://www.congress.gov/115/plaws/publ435/PLAW-115publ435.pdf\" class=\"external ext-link\" rel=\"external\" onclick=\"this.target=&#039;_blank&#039;;\">OPEN Government Data Act</a>, federal agencies maintain comprehensive inventories of their data assets that are harvested into the federal data catalog, Data.gov. Progress on agency data inventories can be tracked on this <a href=\"https://labs.data.gov/dashboard/offices/qa\" class=\"local-link\">dashboard.</a> Overall progress on the Federal Data Strategy is reported on <a href=\"https://strategy.data.gov/\" class=\"local-link\">strategy.data.gov.</a></p>\\n\\n<div style=\"display: block !important; margin:0 !important; padding: 0 !important\" id=\"wpp_popup_post_end_element\"></div>\\t\\t\\t\\t\\t\\t\\t</article>\\n\\t\\t\\t\\t\\t\\t</div><!--/.highlight-->\\n\\t\\t\\t\\t\\t\\t\\t\\t\\t</div>\\n\\t\\t\\t\\t\\t\\t\\t\\t<div class=\"pull-right\">\\n                    <a href=\"/highlights\" class=\"more-link\" style=\"color:#fff;\">More Highlights</a>\\n                </div>\\n\\t\\t\\t</div>\\n\\t\\t</div>\\n\\t\\t<!--/.container-->\\n\\t</section><!--/.wrap-lightblue-->\\n\\n\\n<div class=\"wrap container\">\\n<section class=\"updates\">\\n\\n\\n\\t<div class=\"page-header\">\\n\\t\\t<h1>Updates</h1>\\n\\t</div>\\n\\n\\n\\t\\n\\t\\n\\t\\t<article class=\"post-25753556 post type-post status-publish format-standard hentry category-meta\">\\n\\t\\t\\t<header>\\n\\t\\t\\t\\t\\t\\t\\t\\t<h5 class=\"category category-header topic-meta\"><a\\n\\t\\t\\t\\t\\t\\thref=\"/meta\"><i></i><span>Meta - The Data.gov Blog</span></a>\\n\\t\\t\\t\\t</h5>\\n\\n\\t\\t\\t\\t<h2 class=\"entry-title\"><a id=\"post-title-25753556\" href=\"/meta/data-gov-at-ten-and-the-open-government-data-act/\">Data.gov at Ten and the OPEN Government Data Act</a></h2>\\n\\t\\t\\t\\t<div class=\"entry-meta\" xmlns=\"//www.w3.org/1999/html\">\\n    <time class=\"published\" datetime=\"2019-05-31T17:23:36-04:00\">May 31, 2019&nbsp;&nbsp;<i>By Hyon Kim</i></time>\\n</div>\\n\\n\\n\\t\\t\\t</header>\\n\\t\\t\\t<div class=\"entry-summary\">\\n\\t\\t\\t\\t<p>This May marks the tenth anniversary of Data.gov, the federal government\\xe2\\x80\\x99s open data site. Launched by the U.S. General Services Administration (GSA) in May 2009 with a modest 47 datasets, Data.gov has grown to over 200,000 datasets from hundreds of &hellip; <a aria-describedby=\"post-title-25753556\" href=\"https://www.data.gov/meta/data-gov-at-ten-and-the-open-government-data-act/\" class=\"local-link\">Continued</a></p>\\n\\t\\t\\t</div>\\n\\t\\t</article>\\n\\n\\t\\n\\t\\t<article class=\"post-25213405 post type-post status-publish format-standard has-post-thumbnail hentry category-maritime tag-fisheries tag-james-river tag-maritime tag-nais tag-navigation tag-sturgeon\">\\n\\t\\t\\t<header>\\n\\t\\t\\t\\t\\t\\t\\t\\t<h5 class=\"category category-header topic-maritime\"><a\\n\\t\\t\\t\\t\\t\\thref=\"/maritime\"><i></i><span>Maritime</span></a>\\n\\t\\t\\t\\t</h5>\\n\\n\\t\\t\\t\\t<h2 class=\"entry-title\"><a id=\"post-title-25213405\" href=\"/maritime/of-sturgeon-and-ships/\">Of Sturgeon and Ships</a></h2>\\n\\t\\t\\t\\t<div class=\"entry-meta\" xmlns=\"//www.w3.org/1999/html\">\\n    <time class=\"published\" datetime=\"2019-03-07T10:34:32-04:00\">March 7, 2019&nbsp;&nbsp;<i>By Marin Kress, Research Scientist, U.S. Army Engineer Research and Development Center</i></time>\\n</div>\\n\\n\\n\\t\\t\\t</header>\\n\\t\\t\\t<div class=\"entry-summary\">\\n\\t\\t\\t\\t<p>The <a href=\"https://www.navcen.uscg.gov/\" rel=\"noopener noreferrer external\" target=\"_blank\" class=\"external ext-link\" onclick=\"this.target=&#039;_blank&#039;;\">U.S. Coast Guard</a> maintains an archive of historical vessel position movements, collected through the Nationwide Automatic Identification System (NAIS). Originally designed to improve maritime safety and security, these historical vessel position records have proven to be a valuable resource for a variety &hellip; <a aria-describedby=\"post-title-25213405\" href=\"https://www.data.gov/maritime/of-sturgeon-and-ships/\" class=\"local-link\">Continued</a></p>\\n\\t\\t\\t</div>\\n\\t\\t</article>\\n\\n\\t\\n\\t\\t<article class=\"post-25589992 post type-post status-publish format-standard hentry category-meta\">\\n\\t\\t\\t<header>\\n\\t\\t\\t\\t\\t\\t\\t\\t<h5 class=\"category category-header topic-meta\"><a\\n\\t\\t\\t\\t\\t\\thref=\"/meta\"><i></i><span>Meta - The Data.gov Blog</span></a>\\n\\t\\t\\t\\t</h5>\\n\\n\\t\\t\\t\\t<h2 class=\"entry-title\"><a id=\"post-title-25589992\" href=\"/meta/duplicate-entries-removed-from-data-gov-catalog/\">Duplicate Entries Removed from Data.gov Catalog</a></h2>\\n\\t\\t\\t\\t<div class=\"entry-meta\" xmlns=\"//www.w3.org/1999/html\">\\n    <time class=\"published\" datetime=\"2019-02-27T18:35:18-04:00\">February 27, 2019&nbsp;&nbsp;<i>By Data.gov</i></time>\\n</div>\\n\\n\\n\\t\\t\\t</header>\\n\\t\\t\\t<div class=\"entry-summary\">\\n\\t\\t\\t\\t<p>In the last few days, you may have noticed a significant drop in the total number of datasets displayed on the Data.gov <a href=\"https://catalog.data.gov\" class=\"local-link\">catalog</a> . The decrease was not due to an actual reduction in the number of datasets, but the removal &hellip; <a aria-describedby=\"post-title-25589992\" href=\"https://www.data.gov/meta/duplicate-entries-removed-from-data-gov-catalog/\" class=\"local-link\">Continued</a></p>\\n\\t\\t\\t</div>\\n\\t\\t</article>\\n\\n\\t\\n\\t\\n\\t\\n\\t\\n\\t\\t<article class=\"col-md-4 col-lg-4 post-26325122 post type-post status-publish format-status hentry category-developers tag-usdatagov post_format-post-format-status\">\\n            <header>\\n                <div class=\"tweet-author\">\\n                <span class=\"author-image\">\\n                    <img src=\"https://www.data.gov/app/themes/roots-nextdatagov/assets/img/twitter.png\"  alt=\"twitter\">\\n                </span>\\n                    <a class=\"author-link local-link\" href=\"https://twitter.com/usdatagov\">\\n                        <div>\\n                    <span class=\"author-name\">\\n                        usdatagov                    </span>\\n                        <span class=\"author-handle\">\\n                            @usdatagov                        </span>\\n                        </div>\\n                    </a>\\n                </div>\\n                <div class=\"tweet-date\">\\n                    May 14, 2020                </div>\\n            </header>\\n\\t\\t\\t<div class=\"body\">\\n\\t\\t\\t\\t\\n<p class=\\'tweet_text\\'>RT <a href=\"http://twitter.com/datopian\" target=\"_blank\" rel=\"noopener noreferrer\" class=\"local-link\">@datopian</a>:Informative talk by <a href=\"http://twitter.com/philipashlock\" target=\"_blank\" rel=\"noopener noreferrer\" class=\"local-link\">@philipashlock</a> from<br />\\n<a href=\"http://twitter.com/usdatagov\" target=\"_blank\" rel=\"noopener noreferrer\" class=\"local-link\">@usdatagov</a> on the state of open data in government infrastructure, metadat\\xe2\\x80\\xa6 <a href=\"https://t.co/QZO93BUykv\" target=\"_blank\" rel=\"noopener noreferrer external\" class=\"external ext-link\" onclick=\"this.target=&#039;_blank&#039;;\">https://t.co/QZO93BUykv</a></p>\\n\\n<div style=\"display: block !important; margin:0 !important; padding: 0 !important\" id=\"wpp_popup_post_end_element\"></div>\\t\\t\\t</div>\\n\\t\\t</article>\\n\\n\\t\\n\\t\\t<article class=\"col-md-4 col-lg-4 post-26325124 post type-post status-publish format-status hentry category-developers tag-usdatagov post_format-post-format-status\">\\n            <header>\\n                <div class=\"tweet-author\">\\n                <span class=\"author-image\">\\n                    <img src=\"https://www.data.gov/app/themes/roots-nextdatagov/assets/img/twitter.png\"  alt=\"twitter\">\\n                </span>\\n                    <a class=\"author-link local-link\" href=\"https://twitter.com/usdatagov\">\\n                        <div>\\n                    <span class=\"author-name\">\\n                        usdatagov                    </span>\\n                        <span class=\"author-handle\">\\n                            @usdatagov                        </span>\\n                        </div>\\n                    </a>\\n                </div>\\n                <div class=\"tweet-date\">\\n                    May 14, 2020                </div>\\n            </header>\\n\\t\\t\\t<div class=\"body\">\\n\\t\\t\\t\\t\\n<p class=\\'tweet_text\\'>RT <a href=\"http://twitter.com/DepSecHargan\" target=\"_blank\" rel=\"noopener noreferrer\" class=\"local-link\">@DepSecHargan</a>:Everyone can help prevent spread of <a href=\"http://twitter.com/search?q=%23COVID19.\" target=\"_blank\" rel=\"noopener noreferrer\" class=\"local-link\">#COVID19.</a> Clara, <a href=\"http://twitter.com/CDCgov\" target=\"_blank\" rel=\"noopener noreferrer\" class=\"local-link\">@CDCgov</a>\\xe2\\x80\\x99s <a href=\"http://twitter.com/search?q=%23Coronavirus\" target=\"_blank\" rel=\"noopener noreferrer\" class=\"local-link\">#Coronavirus</a> Self-Checker, can help you decide when\\xe2\\x80\\xa6 <a href=\"https://t.co/EdFpo7BLYZ\" target=\"_blank\" rel=\"noopener noreferrer external\" class=\"external ext-link\" onclick=\"this.target=&#039;_blank&#039;;\">https://t.co/EdFpo7BLYZ</a></p>\\n\\n<div style=\"display: block !important; margin:0 !important; padding: 0 !important\" id=\"wpp_popup_post_end_element\"></div>\\t\\t\\t</div>\\n\\t\\t</article>\\n\\n\\t\\n\\t\\t<article class=\"col-md-4 col-lg-4 post-26321349 post type-post status-publish format-status hentry category-developers tag-usdatagov post_format-post-format-status\">\\n            <header>\\n                <div class=\"tweet-author\">\\n                <span class=\"author-image\">\\n                    <img src=\"https://www.data.gov/app/themes/roots-nextdatagov/assets/img/twitter.png\"  alt=\"twitter\">\\n                </span>\\n                    <a class=\"author-link local-link\" href=\"https://twitter.com/usdatagov\">\\n                        <div>\\n                    <span class=\"author-name\">\\n                        usdatagov                    </span>\\n                        <span class=\"author-handle\">\\n                            @usdatagov                        </span>\\n                        </div>\\n                    </a>\\n                </div>\\n                <div class=\"tweet-date\">\\n                    May 13, 2020                </div>\\n            </header>\\n\\t\\t\\t<div class=\"body\">\\n\\t\\t\\t\\t\\n<p class=\\'tweet_text\\'>Federal CIO Kent Emphasizes Importance of Data in COVID-19 Response <a href=\"https://t.co/RaFWEo9pow\" target=\"_blank\" rel=\"noopener noreferrer external\" class=\"external ext-link\" onclick=\"this.target=&#039;_blank&#039;;\">https://t.co/RaFWEo9pow</a> <a href=\"http://twitter.com/search?q=%23opendata\" target=\"_blank\" rel=\"noopener noreferrer\" class=\"local-link\">#opendata</a> <a href=\"http://twitter.com/search?q=%23opengovernment\" target=\"_blank\" rel=\"noopener noreferrer\" class=\"local-link\">#opengovernment</a></p>\\n\\n<div style=\"display: block !important; margin:0 !important; padding: 0 !important\" id=\"wpp_popup_post_end_element\"></div>\\t\\t\\t</div>\\n\\t\\t</article>\\n\\n\\t\\n\\t</section>\\n\\n</div><!--/.container-->\\n        </main>\\n        <!-- /.main -->\\n\\n        \\n\\n    </div>\\n    <!-- /.content -->\\n</div>\\n<!-- /.wrap -->\\n\\n<footer class=\"content-info\" role=\"contentinfo\">\\n\\n\\n    <div class=\"container\">\\n\\n\\n        <div class=\"row\">\\n\\n            <!--\\n    <div class=\"col-lg-4\">\\n            <p>&copy; 2020 Data.gov</p>\\n    </div>\\n    -->\\n\\n\\n            <div class=\"col-md-6 col-lg-6\">\\n                <div class=\"footer-logo\">\\n                    <a class=\"logo-brand local-link\" href=\"https://www.data.gov/\" alt=\"Data.gov\">Data.gov</a>\\n                </div>\\n                <ul id=\"menu-footer2\" class=\"nav\"><li class=\"menu-privacy-and-website-policies\"><a href=\"https://www.data.gov/privacy-policy\" class=\"local-link\">Privacy and Website Policies</a></li>\\n<li class=\"menu-usa-gov\"><a href=\"https://www.usa.gov/\" class=\"external ext-link\" rel=\"external\" onclick=\"this.target=&#039;_blank&#039;;\">USA.GOV</a></li>\\n<li class=\"menu-performance-gov\"><a href=\"http://www.performance.gov/\" class=\"external ext-link\" rel=\"external\" onclick=\"this.target=&#039;_blank&#039;;\">PERFORMANCE.GOV</a></li>\\n</ul>            </div>\\n\\n                            <nav class=\"col-md-3 col-lg-3\" role=\"navigation\">\\n                    <ul id=\"menu-footer\" class=\"nav\"><li class=\"menu-about\"><a href=\"https://www.data.gov/about\" class=\"local-link\">About</a></li>\\n<li class=\"menu-open-government\"><a href=\"https://www.data.gov/open-gov/\" class=\"local-link\">Open Government</a></li>\\n<li class=\"menu-blog\"><a href=\"https://www.data.gov/meta/\" class=\"local-link\">Blog</a></li>\\n<li class=\"menu-metrics\"><a href=\"https://www.data.gov/metrics\" class=\"local-link\">Metrics</a></li>\\n<li class=\"menu-events\"><a href=\"/events/\">Events</a></li>\\n<li class=\"menu-log-in\"><a href=\"https://www.data.gov/wp/wp-login.php\" class=\"local-link\">Log In</a></li>\\n</ul>                </nav>\\n\\n            \\n\\n\\n            <div class=\"col-md-3 col-lg-3 social-nav\">\\n\\n                \\n\\n\\n                                    <nav role=\"navigation\">\\n                        <ul id=\"menu-social_navigation\" class=\"nav\"><li><a href=\"https://twitter.com/usdatagov\" title=\"This link will direct you to an external website that may have different content and privacy policies from Data.gov.\" class=\"local-link\"><i class=\"fa fa-twitter\" ></i><span>Twitter</span></a></li>\\n<li><a href=\"http://github.com/GSA/data.gov/\" title=\"This link will direct you to an external website that may have different content and privacy policies from Data.gov.\" class=\"local-link\"><i class=\"fa fa-github\" ></i><span>Github</span></a></li>\\n</ul>                    </nav>\\n                \\n            </div>\\n        </div>\\n    </div>\\n</footer>\\n\\n\\n\\n\\t\\t<script>\\n\\t\\t( function ( body ) {\\n\\t\\t\\t\\'use strict\\';\\n\\t\\t\\tbody.className = body.className.replace( /\\\\btribe-no-js\\\\b/, \\'tribe-js\\' );\\n\\t\\t} )( document.body );\\n\\t\\t</script>\\n\\t\\t<script> /* <![CDATA[ */var tribe_l10n_datatables = {\"aria\":{\"sort_ascending\":\": activate to sort column ascending\",\"sort_descending\":\": activate to sort column descending\"},\"length_menu\":\"Show _MENU_ entries\",\"empty_table\":\"No data available in table\",\"info\":\"Showing _START_ to _END_ of _TOTAL_ entries\",\"info_empty\":\"Showing 0 to 0 of 0 entries\",\"info_filtered\":\"(filtered from _MAX_ total entries)\",\"zero_records\":\"No matching records found\",\"search\":\"Search:\",\"all_selected_text\":\"All items on this page were selected. \",\"select_all_link\":\"Select all pages\",\"clear_selection\":\"Clear Selection.\",\"pagination\":{\"all\":\"All\",\"next\":\"Next\",\"previous\":\"Previous\"},\"select\":{\"rows\":{\"0\":\"\",\"_\":\": Selected %d rows\",\"1\":\": Selected 1 row\"}},\"datepicker\":{\"dayNames\":[\"Sunday\",\"Monday\",\"Tuesday\",\"Wednesday\",\"Thursday\",\"Friday\",\"Saturday\"],\"dayNamesShort\":[\"Sun\",\"Mon\",\"Tue\",\"Wed\",\"Thu\",\"Fri\",\"Sat\"],\"dayNamesMin\":[\"S\",\"M\",\"T\",\"W\",\"T\",\"F\",\"S\"],\"monthNames\":[\"January\",\"February\",\"March\",\"April\",\"May\",\"June\",\"July\",\"August\",\"September\",\"October\",\"November\",\"December\"],\"monthNamesShort\":[\"January\",\"February\",\"March\",\"April\",\"May\",\"June\",\"July\",\"August\",\"September\",\"October\",\"November\",\"December\"],\"monthNamesMin\":[\"Jan\",\"Feb\",\"Mar\",\"Apr\",\"May\",\"Jun\",\"Jul\",\"Aug\",\"Sep\",\"Oct\",\"Nov\",\"Dec\"],\"nextText\":\"Next\",\"prevText\":\"Prev\",\"currentText\":\"Today\",\"closeText\":\"Done\",\"today\":\"Today\",\"clear\":\"Clear\"}};/* ]]> */ </script><script type=\\'text/javascript\\' src=\\'/app/plugins/simple-tooltips/zebra_tooltips.js?ver=5.2.6\\' defer=\\'defer\\'></script>\\n<script type=\\'text/javascript\\'>\\n/* <![CDATA[ */\\nvar wpcf7 = {\"apiSettings\":{\"root\":\"https:\\\\/\\\\/www.data.gov\\\\/wp-json\\\\/contact-form-7\\\\/v1\",\"namespace\":\"contact-form-7\\\\/v1\"}};\\n/* ]]> */\\n</script>\\n<script type=\\'text/javascript\\' src=\\'/app/plugins/contact-form-7/includes/js/scripts.js?ver=5.1.7\\' defer=\\'defer\\'></script>\\n<script type=\\'text/javascript\\' src=\\'/app/plugins/the-events-calendar/common/vendor/datatables/datatables.min.js?ver=4.12.0\\' defer=\\'defer\\'></script>\\n<script type=\\'text/javascript\\' src=\\'/app/themes/roots-nextdatagov/assets/js/scripts.min.js?ver=9ab03eaa29bcfa40a4e8e34e7afda278\\' defer=\\'defer\\'></script>\\n<script type=\\'text/javascript\\' src=\\'https://code.jquery.com/jquery-migrate-3.1.0.min.js\\'></script>\\n<script type=\\'text/javascript\\' src=\\'/wp/wp-includes/js/wp-embed.min.js?ver=5.2.6\\'></script>\\n                \\t\\t\\t            \\r\\n                <script type=\"text/javascript\">\\r\\n                    jQuery(function() {\\r\\n                                                \\r\\n                        jQuery(\".tooltips img\").closest(\".tooltips\").css(\"display\", \"inline-block\");\\r\\n                    \\r\\n                        new jQuery.Zebra_Tooltips(jQuery(\\'.tooltips\\').not(\\'.custom_m_bubble\\'), {\\r\\n                            \\'background_color\\':     \\'#000000\\',\\r\\n                            \\'color\\':\\t\\t\\t\\t\\'#ffffff\\',\\r\\n                            \\'max_width\\':  250,\\r\\n                            \\'opacity\\':    .95, \\r\\n                            \\'position\\':    \\'center\\'\\r\\n                        });\\r\\n                        \\r\\n                                            \\r\\n                    });\\r\\n                </script>        \\r\\n\\t\\t</body>\\n</html>\\n'"
      ]
     },
     "execution_count": 54,
     "metadata": {},
     "output_type": "execute_result"
    }
   ],
   "source": [
    "response.content"
   ]
  },
  {
   "cell_type": "code",
   "execution_count": 35,
   "metadata": {},
   "outputs": [],
   "source": [
    "def findJudge(N, trust):\n",
    "    ans = 0 \n",
    "    trusted_people = {}\n",
    "    vals =[]\n",
    "    temp = []\n",
    "    checks = 0\n",
    "    for t in trust: \n",
    "        if t[0] not in trusted_people.keys():\n",
    "            trusted_people[t[0]] = t[1]\n",
    "            #something.append(t[1])\n",
    "        else: \n",
    "            temp = [trusted_people[t[0]]]\n",
    "            temp.append(t[1])\n",
    "            trusted_people[t[0]] = temp\n",
    "    return(trusted_people)\n",
    "    #print(*trusted_people.values())\n",
    "    #print(set.intersection(set(*trusted_people.values())))"
   ]
  },
  {
   "cell_type": "code",
   "execution_count": 70,
   "metadata": {},
   "outputs": [
    {
     "name": "stdout",
     "output_type": "stream",
     "text": [
      "[0, -2, -2, 3, 1]\n"
     ]
    }
   ],
   "source": [
    "x = findJudge(4,[[1,3],[1,4],[2,3],[2,4],[4,3]])"
   ]
  },
  {
   "cell_type": "code",
   "execution_count": 69,
   "metadata": {},
   "outputs": [],
   "source": [
    "def findJudge(N, trust):\n",
    "    trusted = [0] * (N+1)\n",
    "    for a, b in trust:\n",
    "        trusted[a] -= 1\n",
    "        trusted[b] += 1\n",
    "    print(trusted)\n",
    "    for i in range(1, N+1):\n",
    "        if trusted[i] == N-1:\n",
    "            return i\n",
    "    return -1"
   ]
  },
  {
   "cell_type": "code",
   "execution_count": 68,
   "metadata": {},
   "outputs": [
    {
     "data": {
      "text/plain": [
       "3"
      ]
     },
     "execution_count": 68,
     "metadata": {},
     "output_type": "execute_result"
    }
   ],
   "source": [
    "x"
   ]
  },
  {
   "cell_type": "code",
   "execution_count": null,
   "metadata": {},
   "outputs": [],
   "source": [
    "for i in d.values():\n",
    "    if \"hi\" in i: \n",
    "        print(\"yes\")"
   ]
  },
  {
   "cell_type": "code",
   "execution_count": null,
   "metadata": {},
   "outputs": [],
   "source": [
    "if \"hi\" in d.values():\n",
    "    print(\"yes\")"
   ]
  },
  {
   "cell_type": "code",
   "execution_count": null,
   "metadata": {},
   "outputs": [],
   "source": [
    "word = \"\"\n",
    "word.join(sorted(\"hui\"))\n",
    "[d[1]].append(s)"
   ]
  },
  {
   "cell_type": "code",
   "execution_count": null,
   "metadata": {},
   "outputs": [],
   "source": [
    "dn = {}\n",
    "temp = \"\"\n",
    "words = [\"eat\",\"tea\",\"tan\",\"ate\",\"nat\",\"bat\"]\n",
    "for w in words:\n",
    "    if temp.join(sorted(w)) in dn.keys():\n",
    "        dn[temp.join(sorted(w))] = [dn[temp.join(sorted(w))]].append(w)\n",
    "        print(temp.join(sorted(w)))\n",
    "        t = dn[\"aet\"]=dn[\"aet\"].append(w)\n",
    "        print(t)\n",
    "    else: \n",
    "        dn[temp.join(sorted(w))] = [w]"
   ]
  },
  {
   "cell_type": "code",
   "execution_count": null,
   "metadata": {},
   "outputs": [],
   "source": [
    "dn = {}\n",
    "temp = \"\"\n",
    "words = [\"eat\",\"tea\",\"tan\",\"ate\",\"nat\",\"bat\"]\n",
    "for w in words:\n",
    "    if temp.join(sorted(w)) not in dn.keys():\n",
    "        dn[temp.join(sorted(w))] = w\n",
    "        print(dn[temp.join(sorted(w))])\n",
    "    else: \n",
    "        value = [dn[temp.join(sorted(w))]].append(w)\n",
    "        dn[temp.join(sorted(w))] = [dn[temp.join(sorted(w))]].append(w)\n",
    "        print(\"$%$\",temp.join(sorted(w)))\n",
    "        #t = dn[\"aet\"]=dn[\"aet\"].append(w)\n",
    "        #print(t)\n",
    "      "
   ]
  },
  {
   "cell_type": "code",
   "execution_count": null,
   "metadata": {},
   "outputs": [],
   "source": []
  },
  {
   "cell_type": "code",
   "execution_count": 21,
   "metadata": {},
   "outputs": [
    {
     "name": "stdout",
     "output_type": "stream",
     "text": [
      "{'aet': ['eat', 'tea', 'ate'], 'ant': ['tan', 'nat'], 'abt': ['bat']}\n"
     ]
    }
   ],
   "source": [
    "dn = {}\n",
    "temp = \"\"\n",
    "words1 = [\"eat\",\"tea\",\"tan\",\"ate\",\"nat\",\"bat\"]\n",
    "for w in words1:\n",
    "    x = temp.join(sorted(w))\n",
    "    if x not in dn.keys():\n",
    "        dn[x] = [w]\n",
    "    else: \n",
    "        temp1 = dn[x]\n",
    "        temp1.append(w)\n",
    "        dn[x] = temp1\n",
    "print(dn)\n",
    "    "
   ]
  },
  {
   "cell_type": "code",
   "execution_count": 23,
   "metadata": {},
   "outputs": [
    {
     "name": "stdout",
     "output_type": "stream",
     "text": [
      "{'aet': ['eat', 'tea', 'ate'], 'ant': ['tan', 'nat'], 'abt': ['bat']}\n"
     ]
    }
   ],
   "source": [
    "        result = {}\n",
    "        temp = \"\"\n",
    "        for word in words1:\n",
    "            w_key = temp.join(sorted(word))\n",
    "            if w_key not in result.keys():\n",
    "                result[w_key] = [word]\n",
    "            else: \n",
    "                l = result[w_key]\n",
    "                l.append(word)\n",
    "                result[w_key] = l\n",
    "        print(result)"
   ]
  },
  {
   "cell_type": "code",
   "execution_count": 4,
   "metadata": {},
   "outputs": [
    {
     "ename": "TypeError",
     "evalue": "unsupported operand type(s) for -: 'str' and 'str'",
     "output_type": "error",
     "traceback": [
      "\u001b[0;31m---------------------------------------------------------------------------\u001b[0m",
      "\u001b[0;31mTypeError\u001b[0m                                 Traceback (most recent call last)",
      "\u001b[0;32m<ipython-input-4-769ad0f76f76>\u001b[0m in \u001b[0;36m<module>\u001b[0;34m\u001b[0m\n\u001b[1;32m      1\u001b[0m \u001b[0mS\u001b[0m \u001b[0;34m=\u001b[0m \u001b[0;34m\"hello\"\u001b[0m\u001b[0;34m\u001b[0m\u001b[0;34m\u001b[0m\u001b[0m\n\u001b[0;32m----> 2\u001b[0;31m \u001b[0mS\u001b[0m \u001b[0;34m=\u001b[0m \u001b[0mS\u001b[0m\u001b[0;34m-\u001b[0m\u001b[0mS\u001b[0m\u001b[0;34m[\u001b[0m\u001b[0;36m2\u001b[0m\u001b[0;34m:\u001b[0m\u001b[0;36m4\u001b[0m\u001b[0;34m]\u001b[0m\u001b[0;34m\u001b[0m\u001b[0;34m\u001b[0m\u001b[0m\n\u001b[0m",
      "\u001b[0;31mTypeError\u001b[0m: unsupported operand type(s) for -: 'str' and 'str'"
     ]
    }
   ],
   "source": [
    "S = \"hello\"\n",
    "lens = len(S)\n",
    "        lent = len(T)\n",
    "        for i in range(lens): \n",
    "            if S[i] == \"#\":\n",
    "                S = S[:i-1]+S[i+1:]\n",
    "        for i in range(lent):\n",
    "            if T[i] == \"#\":\n",
    "                T = T[:i-1]+T[i+1:]\n",
    "        print(S)\n",
    "        print(T)"
   ]
  },
  {
   "cell_type": "code",
   "execution_count": 37,
   "metadata": {},
   "outputs": [
    {
     "data": {
      "text/plain": [
       "4"
      ]
     },
     "execution_count": 37,
     "metadata": {},
     "output_type": "execute_result"
    }
   ],
   "source": [
    "len(T)"
   ]
  },
  {
   "cell_type": "code",
   "execution_count": 11,
   "metadata": {},
   "outputs": [],
   "source": []
  },
  {
   "cell_type": "code",
   "execution_count": 31,
   "metadata": {},
   "outputs": [
    {
     "name": "stdout",
     "output_type": "stream",
     "text": [
      "c\n",
      "#\n",
      "d\n",
      "False\n"
     ]
    }
   ],
   "source": [
    "lens = len(S)\n",
    "lent = len(T)\n",
    "S_new = \"\"\n",
    "T_new = \"\"\n",
    "for i in (range(lens-1)): \n",
    "    if S[i] == \"#\":\n",
    "        S_new = S[:i-1]+S[i+1:]\n",
    "for i in range(lent-1):\n",
    "    print(T[i])\n",
    "    if T[i] == \"#\":\n",
    "        T_new = T[:i-1]+T[i+1:]\n",
    "if S_new == T_new: \n",
    "    print(True)\n",
    "else: \n",
    "    print(False)"
   ]
  },
  {
   "cell_type": "code",
   "execution_count": 42,
   "metadata": {},
   "outputs": [
    {
     "name": "stdout",
     "output_type": "stream",
     "text": [
      "ab##\n",
      "a\n",
      "#\n",
      "False\n"
     ]
    }
   ],
   "source": [
    "        lens = len(S)\n",
    "        lent = len(T)\n",
    "        S_new = \"\"\n",
    "        T_new = \"\"\n",
    "        for i in range(lens-1): \n",
    "            if S[i] == \"#\":\n",
    "                #print(S)\n",
    "                S_new = S[:i-1]+S[i+1:]\n",
    "                print(S[:i-1])\n",
    "                print(S[i+1:])\n",
    "                lens = len(S)\n",
    "        for i in range(lent-1):\n",
    "            if T[i] == \"#\":\n",
    "                T_new = T[:i-1]+T[i+1:]\n",
    "                lent = len(T)\n",
    "        if S_new == T_new: \n",
    "            res = True\n",
    "        else: \n",
    "            res = False\n",
    "        print(res)"
   ]
  },
  {
   "cell_type": "code",
   "execution_count": 18,
   "metadata": {},
   "outputs": [
    {
     "ename": "IndexError",
     "evalue": "string index out of range",
     "output_type": "error",
     "traceback": [
      "\u001b[0;31m---------------------------------------------------------------------------\u001b[0m",
      "\u001b[0;31mIndexError\u001b[0m                                Traceback (most recent call last)",
      "\u001b[0;32m<ipython-input-18-2cbf7cbd5384>\u001b[0m in \u001b[0;36m<module>\u001b[0;34m\u001b[0m\n\u001b[1;32m      3\u001b[0m \u001b[0mpos\u001b[0m \u001b[0;34m=\u001b[0m \u001b[0;36m0\u001b[0m\u001b[0;34m\u001b[0m\u001b[0;34m\u001b[0m\u001b[0m\n\u001b[1;32m      4\u001b[0m \u001b[0;32mwhile\u001b[0m \u001b[0;34m\"#\"\u001b[0m \u001b[0;32min\u001b[0m \u001b[0mS\u001b[0m\u001b[0;34m:\u001b[0m\u001b[0;34m\u001b[0m\u001b[0;34m\u001b[0m\u001b[0m\n\u001b[0;32m----> 5\u001b[0;31m     \u001b[0;32mif\u001b[0m \u001b[0mS\u001b[0m\u001b[0;34m[\u001b[0m\u001b[0mpos\u001b[0m\u001b[0;34m]\u001b[0m \u001b[0;34m==\u001b[0m \u001b[0;34m\"#\"\u001b[0m\u001b[0;34m:\u001b[0m\u001b[0;34m\u001b[0m\u001b[0;34m\u001b[0m\u001b[0m\n\u001b[0m\u001b[1;32m      6\u001b[0m         \u001b[0mS\u001b[0m \u001b[0;34m=\u001b[0m \u001b[0mS\u001b[0m\u001b[0;34m[\u001b[0m\u001b[0;34m:\u001b[0m\u001b[0mpos\u001b[0m\u001b[0;34m-\u001b[0m\u001b[0;36m1\u001b[0m\u001b[0;34m]\u001b[0m\u001b[0;34m+\u001b[0m\u001b[0mS\u001b[0m\u001b[0;34m[\u001b[0m\u001b[0mpos\u001b[0m\u001b[0;34m+\u001b[0m\u001b[0;36m1\u001b[0m\u001b[0;34m:\u001b[0m\u001b[0;34m]\u001b[0m\u001b[0;34m\u001b[0m\u001b[0;34m\u001b[0m\u001b[0m\n\u001b[1;32m      7\u001b[0m         \u001b[0mpos\u001b[0m \u001b[0;34m+=\u001b[0m \u001b[0;36m1\u001b[0m\u001b[0;34m\u001b[0m\u001b[0;34m\u001b[0m\u001b[0m\n",
      "\u001b[0;31mIndexError\u001b[0m: string index out of range"
     ]
    }
   ],
   "source": [
    "S = \"ab##\"\n",
    "T = \"c#d#\"\n",
    "pos = 0\n",
    "while \"#\" in S: \n",
    "    if S[pos] == \"#\":\n",
    "        S = S[:pos-1]+S[pos+1:]\n",
    "        pos += 1\n",
    "    else: \n",
    "        pos +=1\n",
    "\n",
    "    "
   ]
  },
  {
   "cell_type": "code",
   "execution_count": 31,
   "metadata": {},
   "outputs": [],
   "source": [
    "\n",
    "pos = [i for i,s in enumerate(S) if s == \"#\"]"
   ]
  },
  {
   "cell_type": "code",
   "execution_count": 45,
   "metadata": {},
   "outputs": [
    {
     "name": "stdout",
     "output_type": "stream",
     "text": [
      "a\n",
      "a#\n",
      "a#\n",
      "a#\n"
     ]
    }
   ],
   "source": [
    "S_new = \"\" \n",
    "S = \"ab##\"\n",
    "for p in pos: \n",
    "    print(S[:p-1])\n",
    "    S_new = S[:p-1]+S[p+1:]\n",
    "    print(S_new)\n",
    "    S = S_new"
   ]
  },
  {
   "cell_type": "code",
   "execution_count": 62,
   "metadata": {},
   "outputs": [
    {
     "name": "stdout",
     "output_type": "stream",
     "text": [
      "c##vnvr\n",
      "##vnvr\n",
      "#vnvr\n",
      "True\n"
     ]
    }
   ],
   "source": [
    "S = \"c##vnvr\"\n",
    "T = \"#c##vnvr\"\n",
    "while \"#\" in S: \n",
    "    if pos == 0: \n",
    "        S = S[1:]\n",
    "    else:\n",
    "        pos = S.find(\"#\")\n",
    "        S = S[:pos-1]+S[pos+1:]\n",
    "\n",
    "while \"#\" in T:\n",
    "    if pos == 0: \n",
    "        T = T[1:]\n",
    "    else:\n",
    "        pos = T.find(\"#\")\n",
    "        T = T[:pos-1]+T[pos+1:]\n",
    "    \n",
    "if S == T: \n",
    "    res = True\n",
    "else: \n",
    "    res = False\n",
    "print(res)"
   ]
  },
  {
   "cell_type": "markdown",
   "metadata": {},
   "source": [
    "## <center> Multiclass classification </center><center> Kaggle API Exploration "
   ]
  },
  {
   "cell_type": "code",
   "execution_count": 5,
   "metadata": {
    "scrolled": true
   },
   "outputs": [
    {
     "name": "stdout",
     "output_type": "stream",
     "text": [
      "Requirement already satisfied: kaggle in /Users/krutheekarajkumar/anaconda3/lib/python3.7/site-packages (1.5.6)\n",
      "Requirement already satisfied: python-slugify in /Users/krutheekarajkumar/anaconda3/lib/python3.7/site-packages (from kaggle) (4.0.0)\n",
      "Requirement already satisfied: tqdm in /Users/krutheekarajkumar/anaconda3/lib/python3.7/site-packages (from kaggle) (4.32.1)\n",
      "Requirement already satisfied: certifi in /Users/krutheekarajkumar/anaconda3/lib/python3.7/site-packages (from kaggle) (2019.11.28)\n",
      "Requirement already satisfied: urllib3<1.25,>=1.21.1 in /Users/krutheekarajkumar/anaconda3/lib/python3.7/site-packages (from kaggle) (1.24.2)\n",
      "Requirement already satisfied: python-dateutil in /Users/krutheekarajkumar/anaconda3/lib/python3.7/site-packages (from kaggle) (2.8.1)\n",
      "Requirement already satisfied: requests in /Users/krutheekarajkumar/anaconda3/lib/python3.7/site-packages (from kaggle) (2.23.0)\n",
      "Requirement already satisfied: six>=1.10 in /Users/krutheekarajkumar/anaconda3/lib/python3.7/site-packages (from kaggle) (1.14.0)\n",
      "Requirement already satisfied: text-unidecode>=1.3 in /Users/krutheekarajkumar/anaconda3/lib/python3.7/site-packages (from python-slugify->kaggle) (1.3)\n",
      "Requirement already satisfied: chardet<4,>=3.0.2 in /Users/krutheekarajkumar/anaconda3/lib/python3.7/site-packages (from requests->kaggle) (3.0.4)\n",
      "Requirement already satisfied: idna<3,>=2.5 in /Users/krutheekarajkumar/anaconda3/lib/python3.7/site-packages (from requests->kaggle) (2.8)\n",
      "Note: you may need to restart the kernel to use updated packages.\n"
     ]
    }
   ],
   "source": [
    "pip install kaggle"
   ]
  },
  {
   "cell_type": "code",
   "execution_count": 6,
   "metadata": {},
   "outputs": [
    {
     "ename": "OSError",
     "evalue": "Could not find kaggle.json. Make sure it's located in /Users/krutheekarajkumar/.kaggle. Or use the environment method.",
     "output_type": "error",
     "traceback": [
      "\u001b[0;31m---------------------------------------------------------------------------\u001b[0m",
      "\u001b[0;31mOSError\u001b[0m                                   Traceback (most recent call last)",
      "\u001b[0;32m<ipython-input-6-f39aa38f1ff0>\u001b[0m in \u001b[0;36m<module>\u001b[0;34m\u001b[0m\n\u001b[1;32m      8\u001b[0m \u001b[0;32mfrom\u001b[0m \u001b[0mtensorflow\u001b[0m\u001b[0;34m.\u001b[0m\u001b[0mkeras\u001b[0m\u001b[0;34m.\u001b[0m\u001b[0mpreprocessing\u001b[0m\u001b[0;34m.\u001b[0m\u001b[0mimage\u001b[0m \u001b[0;32mimport\u001b[0m \u001b[0mImageDataGenerator\u001b[0m\u001b[0;34m\u001b[0m\u001b[0;34m\u001b[0m\u001b[0m\n\u001b[1;32m      9\u001b[0m \u001b[0;32mfrom\u001b[0m \u001b[0mos\u001b[0m \u001b[0;32mimport\u001b[0m \u001b[0mgetcwd\u001b[0m\u001b[0;34m\u001b[0m\u001b[0;34m\u001b[0m\u001b[0m\n\u001b[0;32m---> 10\u001b[0;31m \u001b[0;32mimport\u001b[0m \u001b[0mkaggle\u001b[0m\u001b[0;34m\u001b[0m\u001b[0;34m\u001b[0m\u001b[0m\n\u001b[0m",
      "\u001b[0;32m~/anaconda3/lib/python3.7/site-packages/kaggle/__init__.py\u001b[0m in \u001b[0;36m<module>\u001b[0;34m\u001b[0m\n\u001b[1;32m     21\u001b[0m \u001b[0;34m\u001b[0m\u001b[0m\n\u001b[1;32m     22\u001b[0m \u001b[0mapi\u001b[0m \u001b[0;34m=\u001b[0m \u001b[0mKaggleApi\u001b[0m\u001b[0;34m(\u001b[0m\u001b[0mApiClient\u001b[0m\u001b[0;34m(\u001b[0m\u001b[0;34m)\u001b[0m\u001b[0;34m)\u001b[0m\u001b[0;34m\u001b[0m\u001b[0;34m\u001b[0m\u001b[0m\n\u001b[0;32m---> 23\u001b[0;31m \u001b[0mapi\u001b[0m\u001b[0;34m.\u001b[0m\u001b[0mauthenticate\u001b[0m\u001b[0;34m(\u001b[0m\u001b[0;34m)\u001b[0m\u001b[0;34m\u001b[0m\u001b[0;34m\u001b[0m\u001b[0m\n\u001b[0m",
      "\u001b[0;32m~/anaconda3/lib/python3.7/site-packages/kaggle/api/kaggle_api_extended.py\u001b[0m in \u001b[0;36mauthenticate\u001b[0;34m(self)\u001b[0m\n\u001b[1;32m    147\u001b[0m                 raise IOError('Could not find {}. Make sure it\\'s located in'\n\u001b[1;32m    148\u001b[0m                               ' {}. Or use the environment method.'.format(\n\u001b[0;32m--> 149\u001b[0;31m                                   self.config_file, self.config_dir))\n\u001b[0m\u001b[1;32m    150\u001b[0m \u001b[0;34m\u001b[0m\u001b[0m\n\u001b[1;32m    151\u001b[0m         \u001b[0;31m# Step 3: load into configuration!\u001b[0m\u001b[0;34m\u001b[0m\u001b[0;34m\u001b[0m\u001b[0;34m\u001b[0m\u001b[0m\n",
      "\u001b[0;31mOSError\u001b[0m: Could not find kaggle.json. Make sure it's located in /Users/krutheekarajkumar/.kaggle. Or use the environment method."
     ]
    }
   ],
   "source": [
    "# ATTENTION: Please do not alter any of the provided code in the exercise. Only add your own code where indicated\n",
    "# ATTENTION: Please do not add or remove any cells in the exercise. The grader will check specific cells based on the cell position.\n",
    "# ATTENTION: Please use the provided epoch values when training.\n",
    "\n",
    "import csv\n",
    "import numpy as np\n",
    "import tensorflow as tf\n",
    "from tensorflow.keras.preprocessing.image import ImageDataGenerator\n",
    "from os import getcwd\n",
    "import kaggle"
   ]
  },
  {
   "cell_type": "markdown",
   "metadata": {},
   "source": [
    "api generated: {\"username\":\"krutheeka\",\"key\":\"397238425d80ec9b8477939cb891dc9f\"}"
   ]
  },
  {
   "cell_type": "code",
   "execution_count": 3,
   "metadata": {},
   "outputs": [
    {
     "ename": "SyntaxError",
     "evalue": "invalid syntax (<ipython-input-3-b2e6bcf330fc>, line 1)",
     "output_type": "error",
     "traceback": [
      "\u001b[0;36m  File \u001b[0;32m\"<ipython-input-3-b2e6bcf330fc>\"\u001b[0;36m, line \u001b[0;32m1\u001b[0m\n\u001b[0;31m    kaggle datasets list -s [KEYWORD]\u001b[0m\n\u001b[0m                  ^\u001b[0m\n\u001b[0;31mSyntaxError\u001b[0m\u001b[0;31m:\u001b[0m invalid syntax\n"
     ]
    }
   ],
   "source": [
    "kaggle datasets list -s [KEYWORD]"
   ]
  },
  {
   "cell_type": "code",
   "execution_count": null,
   "metadata": {},
   "outputs": [],
   "source": []
  }
 ],
 "metadata": {
  "kernelspec": {
   "display_name": "Python 3",
   "language": "python",
   "name": "python3"
  },
  "language_info": {
   "codemirror_mode": {
    "name": "ipython",
    "version": 3
   },
   "file_extension": ".py",
   "mimetype": "text/x-python",
   "name": "python",
   "nbconvert_exporter": "python",
   "pygments_lexer": "ipython3",
   "version": "3.7.3"
  }
 },
 "nbformat": 4,
 "nbformat_minor": 2
}
