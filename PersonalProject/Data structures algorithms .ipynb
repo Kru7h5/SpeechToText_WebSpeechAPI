{
 "cells": [
  {
   "cell_type": "markdown",
   "metadata": {},
   "source": [
    "## Data structures algorithms \n",
    "### Solving problems related to data structures, exploring Big(O) notation and problem sets provided by @AndreiNeagoie"
   ]
  },
  {
   "cell_type": "code",
   "execution_count": null,
   "metadata": {},
   "outputs": [],
   "source": [
    "def bigO(arr): \n",
    "    a = 10    # O(1)\n",
    "    a = 10+5  # O(1)\n",
    "    for i in arr: # O (n)\n",
    "        callsomeotherfunction() # O(n)\n",
    "        stranger = True # O(n)\n",
    "        a += 1 #O(n)\n",
    "    return a #O(1)\n",
    "\n",
    "bigO(arr)\n",
    "\n",
    "Answer: 1+1+1+n+n+n+n => O(3+4n)"
   ]
  }
 ],
 "metadata": {
  "kernelspec": {
   "display_name": "Python 3",
   "language": "python",
   "name": "python3"
  },
  "language_info": {
   "codemirror_mode": {
    "name": "ipython",
    "version": 3
   },
   "file_extension": ".py",
   "mimetype": "text/x-python",
   "name": "python",
   "nbconvert_exporter": "python",
   "pygments_lexer": "ipython3",
   "version": "3.7.3"
  }
 },
 "nbformat": 4,
 "nbformat_minor": 2
}
