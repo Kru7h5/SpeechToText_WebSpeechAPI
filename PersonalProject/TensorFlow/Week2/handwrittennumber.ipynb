{
 "cells": [
  {
   "cell_type": "markdown",
   "metadata": {
    "colab_type": "text",
    "id": "tOoyQ70H00_s"
   },
   "source": [
    "## Exercise 2\n",
    "In the course you learned how to do classificaiton using Fashion MNIST, a data set containing items of clothing. There's another, similar dataset called MNIST which has items of handwriting -- the digits 0 through 9.\n",
    "\n",
    "Write an MNIST classifier that trains to 99% accuracy or above, and does it without a fixed number of epochs -- i.e. you should stop training once you reach that level of accuracy.\n",
    "\n",
    "Some notes:\n",
    "1. It should succeed in less than 10 epochs, so it is okay to change epochs= to 10, but nothing larger\n",
    "2. When it reaches 99% or greater it should print out the string \"Reached 99% accuracy so cancelling training!\"\n",
    "3. If you add any additional variables, make sure you use the same names as the ones used in the class\n",
    "\n",
    "I've started the code for you below -- how would you finish it? "
   ]
  },
  {
   "cell_type": "code",
   "execution_count": 1,
   "metadata": {},
   "outputs": [],
   "source": [
    "import tensorflow as tf\n",
    "from os import path, getcwd, chdir\n",
    "\n",
    "# DO NOT CHANGE THE LINE BELOW. If you are developing in a local\n",
    "# environment, then grab mnist.npz from the Coursera Jupyter Notebook\n",
    "# and place it inside a local folder and edit the path to that location\n",
    "path = f\"{getcwd()}/../tmp2/mnist.npz\""
   ]
  },
  {
   "cell_type": "code",
   "execution_count": 55,
   "metadata": {
    "colab": {},
    "colab_type": "code",
    "id": "9rvXQGAA0ssC"
   },
   "outputs": [],
   "source": [
    "# GRADED FUNCTION: train_mnist\n",
    "def train_mnist():\n",
    "    # Please write your code only where you are indicated.\n",
    "    # please do not remove # model fitting inline comments.\n",
    "    \n",
    "    # Creating mycallback class\n",
    "    class myCallback(tf.keras.callbacks.Callback):\n",
    "        def on_epoch_end(self, epoch,logs={}):\n",
    "            if (logs.get(\"acc\")>0.99):\n",
    "                print(\"\\nReached 99% accuracy so cancelling training!\")\n",
    "                self.model.stop_training = True\n",
    "                \n",
    "    #Instantiating my callback\n",
    "    mycallback = myCallback()\n",
    "\n",
    "    mnist = tf.keras.datasets.mnist\n",
    "\n",
    "    (x_train, y_train),(x_test, y_test) = mnist.load_data(path=path)\n",
    "    #class_names = ['0', '1', '2', '3', '4', '5',\n",
    "    #           '6', '7', '8', '9']\n",
    "    #x_train = x_train/784.0\n",
    "    #x_test = x_test/784.0\n",
    "    #y_test = y_test/784.0\n",
    "    #y_train = y_train/255.0\n",
    "    #y_train = y_train/784.0\n",
    "    \n",
    "    # YOUR CODE SHOULD END HERE\n",
    "    model = tf.keras.models.Sequential([\n",
    "        tf.keras.layers.Flatten(input_shape=(28, 28)),\n",
    "        tf.keras.layers.Dense(512, activation='relu'),\n",
    "        #tf.keras.layers.Dense(218, activation='relu'),\n",
    "        tf.keras.layers.Dense(10, activation='softmax')\n",
    "    ])\n",
    "\n",
    "    model.compile(optimizer='adam',\n",
    "                  loss='sparse_categorical_crossentropy',\n",
    "                  metrics=['accuracy']\n",
    "                 )\n",
    "    \n",
    "    # model fitting\n",
    "    history = model.fit(x_train,y_train, epochs = 10, callbacks = [mycallback])\n",
    "    # model fitting\n",
    "    return history.epoch, history.history['acc'][-1]"
   ]
  },
  {
   "cell_type": "code",
   "execution_count": 56,
   "metadata": {},
   "outputs": [
    {
     "name": "stdout",
     "output_type": "stream",
     "text": [
      "1.14.0\n"
     ]
    }
   ],
   "source": [
    "print(tf.__version__)"
   ]
  },
  {
   "cell_type": "code",
   "execution_count": 57,
   "metadata": {
    "colab": {},
    "colab_type": "code",
    "id": "9rvXQGAA0ssC",
    "scrolled": true
   },
   "outputs": [
    {
     "name": "stdout",
     "output_type": "stream",
     "text": [
      "Epoch 1/10\n",
      "60000/60000 [==============================] - 15s 258us/sample - loss: 2.5408 - acc: 0.9050\n",
      "Epoch 2/10\n",
      "60000/60000 [==============================] - 15s 258us/sample - loss: 0.3351 - acc: 0.9347\n",
      "Epoch 3/10\n",
      "60000/60000 [==============================] - 15s 255us/sample - loss: 0.2934 - acc: 0.9402\n",
      "Epoch 4/10\n",
      "60000/60000 [==============================] - 15s 253us/sample - loss: 0.2676 - acc: 0.9442\n",
      "Epoch 5/10\n",
      "60000/60000 [==============================] - 15s 253us/sample - loss: 0.2367 - acc: 0.9507\n",
      "Epoch 6/10\n",
      "60000/60000 [==============================] - 15s 253us/sample - loss: 0.2335 - acc: 0.9535\n",
      "Epoch 7/10\n",
      "60000/60000 [==============================] - 15s 252us/sample - loss: 0.2137 - acc: 0.9567\n",
      "Epoch 8/10\n",
      "60000/60000 [==============================] - 15s 253us/sample - loss: 0.2059 - acc: 0.9583\n",
      "Epoch 9/10\n",
      "60000/60000 [==============================] - 15s 255us/sample - loss: 0.1950 - acc: 0.9604\n",
      "Epoch 10/10\n",
      "60000/60000 [==============================] - 15s 254us/sample - loss: 0.1938 - acc: 0.9614\n"
     ]
    },
    {
     "data": {
      "text/plain": [
       "([0, 1, 2, 3, 4, 5, 6, 7, 8, 9], 0.96141666)"
      ]
     },
     "execution_count": 57,
     "metadata": {},
     "output_type": "execute_result"
    }
   ],
   "source": [
    "train_mnist()"
   ]
  },
  {
   "cell_type": "code",
   "execution_count": 4,
   "metadata": {},
   "outputs": [],
   "source": [
    "# Now click the 'Submit Assignment' button above.\n",
    "# Once that is complete, please run the following two cells to save your work and close the notebook"
   ]
  }
 ],
 "metadata": {
  "coursera": {
   "course_slug": "introduction-tensorflow",
   "graded_item_id": "d6dew",
   "launcher_item_id": "FExZ4"
  },
  "kernelspec": {
   "display_name": "Python 3",
   "language": "python",
   "name": "python3"
  },
  "language_info": {
   "codemirror_mode": {
    "name": "ipython",
    "version": 3
   },
   "file_extension": ".py",
   "mimetype": "text/x-python",
   "name": "python",
   "nbconvert_exporter": "python",
   "pygments_lexer": "ipython3",
   "version": "3.6.8"
  }
 },
 "nbformat": 4,
 "nbformat_minor": 1
}
