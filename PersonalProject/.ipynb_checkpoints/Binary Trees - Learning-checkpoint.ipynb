{
 "cells": [
  {
   "cell_type": "markdown",
   "metadata": {},
   "source": [
    "## <center> Binary trees </center>\n",
    "### Goal of this notebook is to host all the binary trees problems solved from various sources and to use as a learning experience. The sources of these notebooks are LeetCode, GeeksforGeeks and others (credit will be shared along side each problem). "
   ]
  },
  {
   "cell_type": "markdown",
   "metadata": {},
   "source": [
    "#### Foundational work: \n",
    "The following code was from Vincent Russo (git: vprusso). It lays the foundation of how to traverse through a binrary tree and the different ways of doing so: \n",
    "<https://github.com/vprusso/youtube_tutorials/blob/master/data_structures/trees/binary_trees/binary_tree_recursive_dfs_traversals.py>"
   ]
  },
  {
   "cell_type": "code",
   "execution_count": 1,
   "metadata": {},
   "outputs": [
    {
     "name": "stdout",
     "output_type": "stream",
     "text": [
      "4-5-2-6-7-3-1-\n"
     ]
    }
   ],
   "source": [
    "class Node(object):\n",
    "    def __init__(self, value):\n",
    "        self.value = value\n",
    "        self.left = None\n",
    "        self.right = None\n",
    "\n",
    "\n",
    "class BinaryTree(object):\n",
    "    def __init__(self, root):\n",
    "        self.root = Node(root)\n",
    "\n",
    "    def print_tree(self, traversal_type):\n",
    "        if traversal_type == \"preorder\":\n",
    "            return self.preorder_print(tree.root, \"\")\n",
    "        elif traversal_type == \"inorder\":\n",
    "            return self.inorder_print(tree.root, \"\")\n",
    "        elif traversal_type == \"postorder\":\n",
    "            return self.postorder_print(tree.root, \"\")\n",
    "\n",
    "        else:\n",
    "            print(\"Traversal type \" + str(traversal_type) + \" is not supported.\")\n",
    "            return False\n",
    "\n",
    "    def preorder_print(self, start, traversal):\n",
    "        \"\"\"Root->Left->Right\"\"\"\n",
    "        if start:\n",
    "            traversal += (str(start.value) + \"-\")\n",
    "            traversal = self.preorder_print(start.left, traversal)\n",
    "            traversal = self.preorder_print(start.right, traversal)\n",
    "        return traversal\n",
    "\n",
    "    def inorder_print(self, start, traversal):\n",
    "        \"\"\"Left->Root->Right\"\"\"\n",
    "        if start:\n",
    "            traversal = self.inorder_print(start.left, traversal)\n",
    "            traversal += (str(start.value) + \"-\")\n",
    "            traversal = self.inorder_print(start.right, traversal)\n",
    "        return traversal\n",
    "\n",
    "    def postorder_print(self, start, traversal):\n",
    "        \"\"\"Left->Right->Root\"\"\"\n",
    "        if start:\n",
    "            traversal = self.postorder_print(start.left, traversal)\n",
    "            traversal = self.postorder_print(start.right, traversal)\n",
    "            traversal += (str(start.value) + \"-\")\n",
    "        return traversal\n",
    "\n",
    "# 1-2-4-5-3-6-7-\n",
    "# 4-2-5-1-6-3-7\n",
    "# 4-2-5-6-3-7-1\n",
    "#               1\n",
    "#           /       \\  \n",
    "#          2          3  \n",
    "#         /  \\      /   \\\n",
    "#        4    5     6   7 \n",
    "\n",
    "# Set up tree:\n",
    "tree = BinaryTree(1)\n",
    "tree.root.left = Node(2)\n",
    "tree.root.right = Node(3)\n",
    "tree.root.left.left = Node(4)\n",
    "tree.root.left.right = Node(5)\n",
    "tree.root.right.left = Node(6)\n",
    "tree.root.right.right = Node(7)\n",
    "\n",
    "#print(tree.print_tree(\"preorder\"))\n",
    "#print(tree.print_tree(\"inorder\"))\n",
    "print(tree.print_tree(\"postorder\"))"
   ]
  },
  {
   "cell_type": "markdown",
   "metadata": {},
   "source": [
    "#### LeetCode Problem1: Cousins in binary tree: \n",
    "In a binary tree, the root node is at depth 0, and children of each depth k node are at depth k+1.\n",
    "Two nodes of a binary tree are cousins if they have the same depth, but have different parents.\n",
    "We are given the root of a binary tree with unique values, and the values x and y of two different nodes in the tree.\n",
    "Return true if and only if the nodes corresponding to the values x and y are cousins."
   ]
  },
  {
   "cell_type": "code",
   "execution_count": 4,
   "metadata": {},
   "outputs": [],
   "source": [
    "# Definition for a binary tree node.\n",
    "# class tree:\n",
    "#     def __init__(self, val=0, left=None, right=None):\n",
    "#         self.val = val\n",
    "#         self.left = left\n",
    "#         self.right = right\n",
    "class Solution:          \n",
    "    def isCousins(self, root: tree, x: int, y: int) -> bool:\n",
    "        def traversal (tree, node, depth, parent):\n",
    "            if tree:\n",
    "                if tree.val == node: \n",
    "                    return (depth, parent)\n",
    "                return(traversal(tree.left, node, depth+1, tree) or traversal(tree.right, node, depth+1, tree))\n",
    "                \n",
    "        d_x, p_x, d_y, p_y = (traversal(root, x, 0, None)+traversal(root, y, 0, None))\n",
    "        return(d_x == d_y and p_x != p_y)\n",
    "    "
   ]
  },
  {
   "cell_type": "markdown",
   "metadata": {},
   "source": [
    "#### LeetCode Problem2: Maximum Binary tree depth\n",
    "Given a binary tree, find its maximum depth.\n",
    "The maximum depth is the number of nodes along the longest path from the root node down to the farthest leaf node.\n",
    "Note: A leaf is a node with no children."
   ]
  },
  {
   "cell_type": "code",
   "execution_count": 6,
   "metadata": {},
   "outputs": [],
   "source": [
    "# Definition for a binary tree node.\n",
    "# class TreeNode:\n",
    "#     def __init__(self, val=0, left=None, right=None):\n",
    "#         self.val = val\n",
    "#         self.left = left\n",
    "#         self.right = right\n",
    "class Solution:\n",
    "    def maxDepth(self, root: tree) -> int:\n",
    "        def depth ( node):\n",
    "            depth_right = 0 \n",
    "            depth_left = 0 \n",
    "            if node: \n",
    "                depth_right = depth(node.right)\n",
    "                depth_left = depth(node.left)\n",
    "            \n",
    "            if depth_right>depth_left: \n",
    "                depth_right += 1\n",
    "                return(depth_right)\n",
    "            else: \n",
    "                depth_left += 1\n",
    "                return(depth_left)\n",
    "            #return(d)\n",
    "            \n",
    "        return(depth(root)-1)\n",
    "\n",
    "        "
   ]
  },
  {
   "cell_type": "code",
   "execution_count": null,
   "metadata": {},
   "outputs": [],
   "source": []
  }
 ],
 "metadata": {
  "kernelspec": {
   "display_name": "Python 3",
   "language": "python",
   "name": "python3"
  },
  "language_info": {
   "codemirror_mode": {
    "name": "ipython",
    "version": 3
   },
   "file_extension": ".py",
   "mimetype": "text/x-python",
   "name": "python",
   "nbconvert_exporter": "python",
   "pygments_lexer": "ipython3",
   "version": "3.7.3"
  }
 },
 "nbformat": 4,
 "nbformat_minor": 2
}
